{
 "cells": [
  {
   "cell_type": "markdown",
   "metadata": {},
   "source": [
    "# Lab 4 - Student Notebook"
   ]
  },
  {
   "cell_type": "markdown",
   "metadata": {},
   "source": [
    "## Overview\n",
    "\n",
    "In this lab, you will prepare a dataset for creating a forecast by using Amazon Forecast.\n",
    "\n",
    "This lab includes two Jupyter notebooks:\n",
    "\n",
    "1. This notebook contains the steps that you will follow to prepare the dataset and evaluate the forecast.\n",
    "2. The `forecast-autorun.ipynb` notebook contains the steps to create the forecast by using Amazon Forecast. This notebook is run in the background when the lab starts, and it can take between 1–2 hours to complete. You will refer to this notebook during the lab steps, but you won't need to run any cells.\n",
    "\n",
    "\n",
    "## About the dataset\n",
    "\n",
    "This [Online Retail II](https://archive.ics.uci.edu/ml/datasets/Online+Retail+II) dataset contains all transactions that occurred between January 12, 2009 and September 12, 2011 for a non-store, online retail organization that's registered and based in the United Kingdom. The company mainly sells unique all-occasion giftware. Many customers of the company are wholesalers.\n",
    "\n",
    "\n",
    "## Attribute information\n",
    "\n",
    "- **InvoiceNo** – Invoice number. Nominal. A 6-digit integral number that's uniquely assigned to each transaction. If this code starts with the letter *c*, it indicates a cancelation.\n",
    "- **StockCode** – Product (item) code. Nominal. A 5-digit integral number that's uniquely assigned to each distinct product.\n",
    "- **Description** – Product (item) name. Nominal.\n",
    "- **Quantity** – The quantities of each product (item) per transaction. Numeric.\n",
    "- **InvoiceDate** – Invoice date and time. Numeric. The day and time when a transaction was generated.\n",
    "- **UnitPrice** – Unit price. Numeric. Product price per unit in pounds sterling (£).\n",
    "- **CustomerID** – Customer number. Nominal. A 5-digit integral number that's uniquely assigned to each customer.\n",
    "- **Country** – Country name. Nominal. The name of the country where a customer resides.\n",
    "\n",
    "\n",
    "## Dataset attributions\n",
    "\n",
    "This dataset was obtained from:\n",
    "Dua, D. and Graff, C. (2019). UCI Machine Learning Repository (http://archive.ics.uci.edu/ml). Irvine, CA: University of California, School of Information and Computer Science."
   ]
  },
  {
   "cell_type": "markdown",
   "metadata": {},
   "source": [
    "## Lab instructions\n",
    "\n",
    "To complete this lab, read and run the cells below."
   ]
  },
  {
   "cell_type": "markdown",
   "metadata": {},
   "source": [
    "## Task 1: Importing Python packages\n",
    "\n",
    "Start by importing the Python packages that you need.\n",
    "\n",
    "In the following code:\n",
    "\n",
    "- *boto3* represents the AWS SDK for Python (Boto3), which is the Python library for AWS\n",
    "- *pandas* provides DataFrames for manipulating time series data\n",
    "- *matplotlib* provides plotting functions\n",
    "- *sagemaker* represents the API that's needed to work with Amazon SageMaker\n",
    "- *time*, *sys*, *os*, *io*, and *json* provide helper functions \n"
   ]
  },
  {
   "cell_type": "code",
   "execution_count": 1,
   "metadata": {},
   "outputs": [],
   "source": [
    "import warnings\n",
    "warnings.filterwarnings('ignore')\n",
    "bucket_name='c60998a1102898l2747336t1w583544433-forecastbucket-12z8aeie6uq9c'\n",
    "\n",
    "import boto3\n",
    "import pandas as pd\n",
    "import matplotlib\n",
    "import matplotlib.pyplot as plt\n",
    "import sagemaker\n",
    "import time, sys, os, io, json\n",
    "import xlrd\n"
   ]
  },
  {
   "cell_type": "markdown",
   "metadata": {},
   "source": [
    "## Task 2: Exploring the data\n"
   ]
  },
  {
   "cell_type": "markdown",
   "metadata": {},
   "source": [
    "The data is in the *Microsoft Excel* format. pandas can read Excel files.\n",
    "\n",
    "**Note:** This data might take 1–2 minutes to load"
   ]
  },
  {
   "cell_type": "code",
   "execution_count": 2,
   "metadata": {},
   "outputs": [],
   "source": [
    "retail = pd.read_excel('online_retail_II.xlsx',engine='openpyxl')"
   ]
  },
  {
   "cell_type": "markdown",
   "metadata": {},
   "source": [
    "According to the description for the dataset, some values are missing. To keep things simple, you will remove anything wtih a missing value."
   ]
  },
  {
   "cell_type": "code",
   "execution_count": 3,
   "metadata": {},
   "outputs": [],
   "source": [
    "retail = retail.dropna()"
   ]
  },
  {
   "cell_type": "markdown",
   "metadata": {},
   "source": [
    "Start by examining the data.\n",
    "\n",
    "How many rows and columns are in the dataset?"
   ]
  },
  {
   "cell_type": "code",
   "execution_count": 4,
   "metadata": {},
   "outputs": [
    {
     "data": {
      "text/plain": [
       "(417534, 8)"
      ]
     },
     "execution_count": 4,
     "metadata": {},
     "output_type": "execute_result"
    }
   ],
   "source": [
    "retail.shape"
   ]
  },
  {
   "cell_type": "markdown",
   "metadata": {},
   "source": [
    "What are the data types?"
   ]
  },
  {
   "cell_type": "code",
   "execution_count": 5,
   "metadata": {},
   "outputs": [
    {
     "data": {
      "text/plain": [
       "Invoice                object\n",
       "StockCode              object\n",
       "Description            object\n",
       "Quantity                int64\n",
       "InvoiceDate    datetime64[ns]\n",
       "Price                 float64\n",
       "Customer ID           float64\n",
       "Country                object\n",
       "dtype: object"
      ]
     },
     "execution_count": 5,
     "metadata": {},
     "output_type": "execute_result"
    }
   ],
   "source": [
    "retail.dtypes"
   ]
  },
  {
   "cell_type": "markdown",
   "metadata": {},
   "source": [
    "What does the data look like?"
   ]
  },
  {
   "cell_type": "code",
   "execution_count": 6,
   "metadata": {},
   "outputs": [
    {
     "data": {
      "text/html": [
       "<div>\n",
       "<style scoped>\n",
       "    .dataframe tbody tr th:only-of-type {\n",
       "        vertical-align: middle;\n",
       "    }\n",
       "\n",
       "    .dataframe tbody tr th {\n",
       "        vertical-align: top;\n",
       "    }\n",
       "\n",
       "    .dataframe thead th {\n",
       "        text-align: right;\n",
       "    }\n",
       "</style>\n",
       "<table border=\"1\" class=\"dataframe\">\n",
       "  <thead>\n",
       "    <tr style=\"text-align: right;\">\n",
       "      <th></th>\n",
       "      <th>Invoice</th>\n",
       "      <th>StockCode</th>\n",
       "      <th>Description</th>\n",
       "      <th>Quantity</th>\n",
       "      <th>InvoiceDate</th>\n",
       "      <th>Price</th>\n",
       "      <th>Customer ID</th>\n",
       "      <th>Country</th>\n",
       "    </tr>\n",
       "  </thead>\n",
       "  <tbody>\n",
       "    <tr>\n",
       "      <th>0</th>\n",
       "      <td>489434</td>\n",
       "      <td>85048</td>\n",
       "      <td>15CM CHRISTMAS GLASS BALL 20 LIGHTS</td>\n",
       "      <td>12</td>\n",
       "      <td>2009-12-01 07:45:00</td>\n",
       "      <td>6.95</td>\n",
       "      <td>13085.0</td>\n",
       "      <td>United Kingdom</td>\n",
       "    </tr>\n",
       "    <tr>\n",
       "      <th>1</th>\n",
       "      <td>489434</td>\n",
       "      <td>79323P</td>\n",
       "      <td>PINK CHERRY LIGHTS</td>\n",
       "      <td>12</td>\n",
       "      <td>2009-12-01 07:45:00</td>\n",
       "      <td>6.75</td>\n",
       "      <td>13085.0</td>\n",
       "      <td>United Kingdom</td>\n",
       "    </tr>\n",
       "    <tr>\n",
       "      <th>2</th>\n",
       "      <td>489434</td>\n",
       "      <td>79323W</td>\n",
       "      <td>WHITE CHERRY LIGHTS</td>\n",
       "      <td>12</td>\n",
       "      <td>2009-12-01 07:45:00</td>\n",
       "      <td>6.75</td>\n",
       "      <td>13085.0</td>\n",
       "      <td>United Kingdom</td>\n",
       "    </tr>\n",
       "    <tr>\n",
       "      <th>3</th>\n",
       "      <td>489434</td>\n",
       "      <td>22041</td>\n",
       "      <td>RECORD FRAME 7\" SINGLE SIZE</td>\n",
       "      <td>48</td>\n",
       "      <td>2009-12-01 07:45:00</td>\n",
       "      <td>2.10</td>\n",
       "      <td>13085.0</td>\n",
       "      <td>United Kingdom</td>\n",
       "    </tr>\n",
       "    <tr>\n",
       "      <th>4</th>\n",
       "      <td>489434</td>\n",
       "      <td>21232</td>\n",
       "      <td>STRAWBERRY CERAMIC TRINKET BOX</td>\n",
       "      <td>24</td>\n",
       "      <td>2009-12-01 07:45:00</td>\n",
       "      <td>1.25</td>\n",
       "      <td>13085.0</td>\n",
       "      <td>United Kingdom</td>\n",
       "    </tr>\n",
       "    <tr>\n",
       "      <th>5</th>\n",
       "      <td>489434</td>\n",
       "      <td>22064</td>\n",
       "      <td>PINK DOUGHNUT TRINKET POT</td>\n",
       "      <td>24</td>\n",
       "      <td>2009-12-01 07:45:00</td>\n",
       "      <td>1.65</td>\n",
       "      <td>13085.0</td>\n",
       "      <td>United Kingdom</td>\n",
       "    </tr>\n",
       "    <tr>\n",
       "      <th>6</th>\n",
       "      <td>489434</td>\n",
       "      <td>21871</td>\n",
       "      <td>SAVE THE PLANET MUG</td>\n",
       "      <td>24</td>\n",
       "      <td>2009-12-01 07:45:00</td>\n",
       "      <td>1.25</td>\n",
       "      <td>13085.0</td>\n",
       "      <td>United Kingdom</td>\n",
       "    </tr>\n",
       "    <tr>\n",
       "      <th>7</th>\n",
       "      <td>489434</td>\n",
       "      <td>21523</td>\n",
       "      <td>FANCY FONT HOME SWEET HOME DOORMAT</td>\n",
       "      <td>10</td>\n",
       "      <td>2009-12-01 07:45:00</td>\n",
       "      <td>5.95</td>\n",
       "      <td>13085.0</td>\n",
       "      <td>United Kingdom</td>\n",
       "    </tr>\n",
       "    <tr>\n",
       "      <th>8</th>\n",
       "      <td>489435</td>\n",
       "      <td>22350</td>\n",
       "      <td>CAT BOWL</td>\n",
       "      <td>12</td>\n",
       "      <td>2009-12-01 07:46:00</td>\n",
       "      <td>2.55</td>\n",
       "      <td>13085.0</td>\n",
       "      <td>United Kingdom</td>\n",
       "    </tr>\n",
       "    <tr>\n",
       "      <th>9</th>\n",
       "      <td>489435</td>\n",
       "      <td>22349</td>\n",
       "      <td>DOG BOWL , CHASING BALL DESIGN</td>\n",
       "      <td>12</td>\n",
       "      <td>2009-12-01 07:46:00</td>\n",
       "      <td>3.75</td>\n",
       "      <td>13085.0</td>\n",
       "      <td>United Kingdom</td>\n",
       "    </tr>\n",
       "    <tr>\n",
       "      <th>10</th>\n",
       "      <td>489435</td>\n",
       "      <td>22195</td>\n",
       "      <td>HEART MEASURING SPOONS LARGE</td>\n",
       "      <td>24</td>\n",
       "      <td>2009-12-01 07:46:00</td>\n",
       "      <td>1.65</td>\n",
       "      <td>13085.0</td>\n",
       "      <td>United Kingdom</td>\n",
       "    </tr>\n",
       "    <tr>\n",
       "      <th>11</th>\n",
       "      <td>489435</td>\n",
       "      <td>22353</td>\n",
       "      <td>LUNCHBOX WITH CUTLERY FAIRY CAKES</td>\n",
       "      <td>12</td>\n",
       "      <td>2009-12-01 07:46:00</td>\n",
       "      <td>2.55</td>\n",
       "      <td>13085.0</td>\n",
       "      <td>United Kingdom</td>\n",
       "    </tr>\n",
       "    <tr>\n",
       "      <th>12</th>\n",
       "      <td>489436</td>\n",
       "      <td>48173C</td>\n",
       "      <td>DOOR MAT BLACK FLOCK</td>\n",
       "      <td>10</td>\n",
       "      <td>2009-12-01 09:06:00</td>\n",
       "      <td>5.95</td>\n",
       "      <td>13078.0</td>\n",
       "      <td>United Kingdom</td>\n",
       "    </tr>\n",
       "    <tr>\n",
       "      <th>13</th>\n",
       "      <td>489436</td>\n",
       "      <td>21755</td>\n",
       "      <td>LOVE BUILDING BLOCK WORD</td>\n",
       "      <td>18</td>\n",
       "      <td>2009-12-01 09:06:00</td>\n",
       "      <td>5.45</td>\n",
       "      <td>13078.0</td>\n",
       "      <td>United Kingdom</td>\n",
       "    </tr>\n",
       "    <tr>\n",
       "      <th>14</th>\n",
       "      <td>489436</td>\n",
       "      <td>21754</td>\n",
       "      <td>HOME BUILDING BLOCK WORD</td>\n",
       "      <td>3</td>\n",
       "      <td>2009-12-01 09:06:00</td>\n",
       "      <td>5.95</td>\n",
       "      <td>13078.0</td>\n",
       "      <td>United Kingdom</td>\n",
       "    </tr>\n",
       "    <tr>\n",
       "      <th>15</th>\n",
       "      <td>489436</td>\n",
       "      <td>84879</td>\n",
       "      <td>ASSORTED COLOUR BIRD ORNAMENT</td>\n",
       "      <td>16</td>\n",
       "      <td>2009-12-01 09:06:00</td>\n",
       "      <td>1.69</td>\n",
       "      <td>13078.0</td>\n",
       "      <td>United Kingdom</td>\n",
       "    </tr>\n",
       "    <tr>\n",
       "      <th>16</th>\n",
       "      <td>489436</td>\n",
       "      <td>22119</td>\n",
       "      <td>PEACE WOODEN BLOCK LETTERS</td>\n",
       "      <td>3</td>\n",
       "      <td>2009-12-01 09:06:00</td>\n",
       "      <td>6.95</td>\n",
       "      <td>13078.0</td>\n",
       "      <td>United Kingdom</td>\n",
       "    </tr>\n",
       "    <tr>\n",
       "      <th>17</th>\n",
       "      <td>489436</td>\n",
       "      <td>22142</td>\n",
       "      <td>CHRISTMAS CRAFT WHITE FAIRY</td>\n",
       "      <td>12</td>\n",
       "      <td>2009-12-01 09:06:00</td>\n",
       "      <td>1.45</td>\n",
       "      <td>13078.0</td>\n",
       "      <td>United Kingdom</td>\n",
       "    </tr>\n",
       "    <tr>\n",
       "      <th>18</th>\n",
       "      <td>489436</td>\n",
       "      <td>22296</td>\n",
       "      <td>HEART IVORY TRELLIS LARGE</td>\n",
       "      <td>12</td>\n",
       "      <td>2009-12-01 09:06:00</td>\n",
       "      <td>1.65</td>\n",
       "      <td>13078.0</td>\n",
       "      <td>United Kingdom</td>\n",
       "    </tr>\n",
       "    <tr>\n",
       "      <th>19</th>\n",
       "      <td>489436</td>\n",
       "      <td>22295</td>\n",
       "      <td>HEART FILIGREE DOVE LARGE</td>\n",
       "      <td>12</td>\n",
       "      <td>2009-12-01 09:06:00</td>\n",
       "      <td>1.65</td>\n",
       "      <td>13078.0</td>\n",
       "      <td>United Kingdom</td>\n",
       "    </tr>\n",
       "  </tbody>\n",
       "</table>\n",
       "</div>"
      ],
      "text/plain": [
       "   Invoice StockCode                          Description  Quantity  \\\n",
       "0   489434     85048  15CM CHRISTMAS GLASS BALL 20 LIGHTS        12   \n",
       "1   489434    79323P                   PINK CHERRY LIGHTS        12   \n",
       "2   489434    79323W                  WHITE CHERRY LIGHTS        12   \n",
       "3   489434     22041         RECORD FRAME 7\" SINGLE SIZE         48   \n",
       "4   489434     21232       STRAWBERRY CERAMIC TRINKET BOX        24   \n",
       "5   489434     22064           PINK DOUGHNUT TRINKET POT         24   \n",
       "6   489434     21871                  SAVE THE PLANET MUG        24   \n",
       "7   489434     21523   FANCY FONT HOME SWEET HOME DOORMAT        10   \n",
       "8   489435     22350                            CAT BOWL         12   \n",
       "9   489435     22349       DOG BOWL , CHASING BALL DESIGN        12   \n",
       "10  489435     22195         HEART MEASURING SPOONS LARGE        24   \n",
       "11  489435     22353   LUNCHBOX WITH CUTLERY FAIRY CAKES         12   \n",
       "12  489436    48173C                DOOR MAT BLACK FLOCK         10   \n",
       "13  489436     21755             LOVE BUILDING BLOCK WORD        18   \n",
       "14  489436     21754             HOME BUILDING BLOCK WORD         3   \n",
       "15  489436     84879        ASSORTED COLOUR BIRD ORNAMENT        16   \n",
       "16  489436     22119           PEACE WOODEN BLOCK LETTERS         3   \n",
       "17  489436     22142         CHRISTMAS CRAFT WHITE FAIRY         12   \n",
       "18  489436     22296            HEART IVORY TRELLIS LARGE        12   \n",
       "19  489436     22295            HEART FILIGREE DOVE LARGE        12   \n",
       "\n",
       "           InvoiceDate  Price  Customer ID         Country  \n",
       "0  2009-12-01 07:45:00   6.95      13085.0  United Kingdom  \n",
       "1  2009-12-01 07:45:00   6.75      13085.0  United Kingdom  \n",
       "2  2009-12-01 07:45:00   6.75      13085.0  United Kingdom  \n",
       "3  2009-12-01 07:45:00   2.10      13085.0  United Kingdom  \n",
       "4  2009-12-01 07:45:00   1.25      13085.0  United Kingdom  \n",
       "5  2009-12-01 07:45:00   1.65      13085.0  United Kingdom  \n",
       "6  2009-12-01 07:45:00   1.25      13085.0  United Kingdom  \n",
       "7  2009-12-01 07:45:00   5.95      13085.0  United Kingdom  \n",
       "8  2009-12-01 07:46:00   2.55      13085.0  United Kingdom  \n",
       "9  2009-12-01 07:46:00   3.75      13085.0  United Kingdom  \n",
       "10 2009-12-01 07:46:00   1.65      13085.0  United Kingdom  \n",
       "11 2009-12-01 07:46:00   2.55      13085.0  United Kingdom  \n",
       "12 2009-12-01 09:06:00   5.95      13078.0  United Kingdom  \n",
       "13 2009-12-01 09:06:00   5.45      13078.0  United Kingdom  \n",
       "14 2009-12-01 09:06:00   5.95      13078.0  United Kingdom  \n",
       "15 2009-12-01 09:06:00   1.69      13078.0  United Kingdom  \n",
       "16 2009-12-01 09:06:00   6.95      13078.0  United Kingdom  \n",
       "17 2009-12-01 09:06:00   1.45      13078.0  United Kingdom  \n",
       "18 2009-12-01 09:06:00   1.65      13078.0  United Kingdom  \n",
       "19 2009-12-01 09:06:00   1.65      13078.0  United Kingdom  "
      ]
     },
     "execution_count": 6,
     "metadata": {},
     "output_type": "execute_result"
    }
   ],
   "source": [
    "retail.head(20)"
   ]
  },
  {
   "cell_type": "markdown",
   "metadata": {},
   "source": [
    "Amazon Forecast has schemas for domains such as retail. Review the schema information at [RETAIL Domain](https://docs.aws.amazon.com/forecast/latest/dg/retail-domain.html) in the AWS Documentation.\n",
    "\n",
    "The target time series is the historical time series data for each item or product that's sold by the retail organization. The following fields are required:\n",
    "\n",
    "- **item_id** (string) – A unique identifier for the item or product that you want to predict the demand for.\n",
    "- **timestamp** (timestamp)\n",
    "- **demand** (float) – The number of sales for that item at the timestamp. It's also the target field that Amazon Forecast generates a forecast for.\n",
    "\n"
   ]
  },
  {
   "cell_type": "markdown",
   "metadata": {},
   "source": [
    "If you examine the previous data, there are certain columns that you don't need for your investigation. You can drop these columns. The columns you can drop are **Invoice**, **Description**, and **Customer ID**. \n",
    "\n",
    "**Note:** It's possible that items in the same order (as shown by the **Invoice** column) could have a correlation that impacts the model. For this lab, you will ignore this possibility.\n",
    "\n",
    "Drop the columns that you don't need."
   ]
  },
  {
   "cell_type": "code",
   "execution_count": 7,
   "metadata": {},
   "outputs": [],
   "source": [
    "retail = retail[['StockCode','Quantity','Price','Country','InvoiceDate']]"
   ]
  },
  {
   "cell_type": "markdown",
   "metadata": {},
   "source": [
    "The **InvoiceDate** column is your datetime data. You can inform pandas of this by using the `to_datetime` function. You can explore the data by time by setting the index of the DataFrame to the **InvoiceDate** column."
   ]
  },
  {
   "cell_type": "code",
   "execution_count": 8,
   "metadata": {},
   "outputs": [],
   "source": [
    "retail['InvoiceDate'] = pd.to_datetime(retail.InvoiceDate)\n",
    "retail = retail.set_index('InvoiceDate')"
   ]
  },
  {
   "cell_type": "markdown",
   "metadata": {},
   "source": [
    "You will now examine the updated DataFrame.\n",
    "\n",
    "The number of rows and columns are:"
   ]
  },
  {
   "cell_type": "code",
   "execution_count": 9,
   "metadata": {},
   "outputs": [
    {
     "data": {
      "text/plain": [
       "(417534, 4)"
      ]
     },
     "execution_count": 9,
     "metadata": {},
     "output_type": "execute_result"
    }
   ],
   "source": [
    "retail.shape"
   ]
  },
  {
   "cell_type": "markdown",
   "metadata": {},
   "source": [
    "The new data looks like this example:"
   ]
  },
  {
   "cell_type": "code",
   "execution_count": 10,
   "metadata": {},
   "outputs": [
    {
     "data": {
      "text/html": [
       "<div>\n",
       "<style scoped>\n",
       "    .dataframe tbody tr th:only-of-type {\n",
       "        vertical-align: middle;\n",
       "    }\n",
       "\n",
       "    .dataframe tbody tr th {\n",
       "        vertical-align: top;\n",
       "    }\n",
       "\n",
       "    .dataframe thead th {\n",
       "        text-align: right;\n",
       "    }\n",
       "</style>\n",
       "<table border=\"1\" class=\"dataframe\">\n",
       "  <thead>\n",
       "    <tr style=\"text-align: right;\">\n",
       "      <th></th>\n",
       "      <th>StockCode</th>\n",
       "      <th>Quantity</th>\n",
       "      <th>Price</th>\n",
       "      <th>Country</th>\n",
       "    </tr>\n",
       "    <tr>\n",
       "      <th>InvoiceDate</th>\n",
       "      <th></th>\n",
       "      <th></th>\n",
       "      <th></th>\n",
       "      <th></th>\n",
       "    </tr>\n",
       "  </thead>\n",
       "  <tbody>\n",
       "    <tr>\n",
       "      <th>2009-12-01 07:45:00</th>\n",
       "      <td>85048</td>\n",
       "      <td>12</td>\n",
       "      <td>6.95</td>\n",
       "      <td>United Kingdom</td>\n",
       "    </tr>\n",
       "    <tr>\n",
       "      <th>2009-12-01 07:45:00</th>\n",
       "      <td>79323P</td>\n",
       "      <td>12</td>\n",
       "      <td>6.75</td>\n",
       "      <td>United Kingdom</td>\n",
       "    </tr>\n",
       "    <tr>\n",
       "      <th>2009-12-01 07:45:00</th>\n",
       "      <td>79323W</td>\n",
       "      <td>12</td>\n",
       "      <td>6.75</td>\n",
       "      <td>United Kingdom</td>\n",
       "    </tr>\n",
       "    <tr>\n",
       "      <th>2009-12-01 07:45:00</th>\n",
       "      <td>22041</td>\n",
       "      <td>48</td>\n",
       "      <td>2.10</td>\n",
       "      <td>United Kingdom</td>\n",
       "    </tr>\n",
       "    <tr>\n",
       "      <th>2009-12-01 07:45:00</th>\n",
       "      <td>21232</td>\n",
       "      <td>24</td>\n",
       "      <td>1.25</td>\n",
       "      <td>United Kingdom</td>\n",
       "    </tr>\n",
       "  </tbody>\n",
       "</table>\n",
       "</div>"
      ],
      "text/plain": [
       "                    StockCode  Quantity  Price         Country\n",
       "InvoiceDate                                                   \n",
       "2009-12-01 07:45:00     85048        12   6.95  United Kingdom\n",
       "2009-12-01 07:45:00    79323P        12   6.75  United Kingdom\n",
       "2009-12-01 07:45:00    79323W        12   6.75  United Kingdom\n",
       "2009-12-01 07:45:00     22041        48   2.10  United Kingdom\n",
       "2009-12-01 07:45:00     21232        24   1.25  United Kingdom"
      ]
     },
     "execution_count": 10,
     "metadata": {},
     "output_type": "execute_result"
    }
   ],
   "source": [
    "retail.head()"
   ]
  },
  {
   "cell_type": "markdown",
   "metadata": {},
   "source": [
    "Note that **InvoiceDate** is the index, and it's shown in the first column."
   ]
  },
  {
   "cell_type": "markdown",
   "metadata": {},
   "source": [
    "Because you set the index to your datetime data, you can use it to select data.\n",
    "\n",
    "To select all the rows from a specific date, use the date in the index."
   ]
  },
  {
   "cell_type": "code",
   "execution_count": 11,
   "metadata": {},
   "outputs": [
    {
     "data": {
      "text/html": [
       "<div>\n",
       "<style scoped>\n",
       "    .dataframe tbody tr th:only-of-type {\n",
       "        vertical-align: middle;\n",
       "    }\n",
       "\n",
       "    .dataframe tbody tr th {\n",
       "        vertical-align: top;\n",
       "    }\n",
       "\n",
       "    .dataframe thead th {\n",
       "        text-align: right;\n",
       "    }\n",
       "</style>\n",
       "<table border=\"1\" class=\"dataframe\">\n",
       "  <thead>\n",
       "    <tr style=\"text-align: right;\">\n",
       "      <th></th>\n",
       "      <th>StockCode</th>\n",
       "      <th>Quantity</th>\n",
       "      <th>Price</th>\n",
       "      <th>Country</th>\n",
       "    </tr>\n",
       "    <tr>\n",
       "      <th>InvoiceDate</th>\n",
       "      <th></th>\n",
       "      <th></th>\n",
       "      <th></th>\n",
       "      <th></th>\n",
       "    </tr>\n",
       "  </thead>\n",
       "  <tbody>\n",
       "    <tr>\n",
       "      <th>2010-01-04 09:24:00</th>\n",
       "      <td>TEST001</td>\n",
       "      <td>5</td>\n",
       "      <td>4.50</td>\n",
       "      <td>United Kingdom</td>\n",
       "    </tr>\n",
       "    <tr>\n",
       "      <th>2010-01-04 09:43:00</th>\n",
       "      <td>21539</td>\n",
       "      <td>-1</td>\n",
       "      <td>4.25</td>\n",
       "      <td>United Kingdom</td>\n",
       "    </tr>\n",
       "    <tr>\n",
       "      <th>2010-01-04 09:53:00</th>\n",
       "      <td>TEST001</td>\n",
       "      <td>5</td>\n",
       "      <td>4.50</td>\n",
       "      <td>United Kingdom</td>\n",
       "    </tr>\n",
       "    <tr>\n",
       "      <th>2010-01-04 10:28:00</th>\n",
       "      <td>21844</td>\n",
       "      <td>36</td>\n",
       "      <td>2.55</td>\n",
       "      <td>United Kingdom</td>\n",
       "    </tr>\n",
       "    <tr>\n",
       "      <th>2010-01-04 10:28:00</th>\n",
       "      <td>21533</td>\n",
       "      <td>12</td>\n",
       "      <td>4.25</td>\n",
       "      <td>United Kingdom</td>\n",
       "    </tr>\n",
       "    <tr>\n",
       "      <th>...</th>\n",
       "      <td>...</td>\n",
       "      <td>...</td>\n",
       "      <td>...</td>\n",
       "      <td>...</td>\n",
       "    </tr>\n",
       "    <tr>\n",
       "      <th>2010-01-04 17:39:00</th>\n",
       "      <td>90214G</td>\n",
       "      <td>1</td>\n",
       "      <td>1.25</td>\n",
       "      <td>United Kingdom</td>\n",
       "    </tr>\n",
       "    <tr>\n",
       "      <th>2010-01-04 17:39:00</th>\n",
       "      <td>90214N</td>\n",
       "      <td>1</td>\n",
       "      <td>1.25</td>\n",
       "      <td>United Kingdom</td>\n",
       "    </tr>\n",
       "    <tr>\n",
       "      <th>2010-01-04 17:39:00</th>\n",
       "      <td>90214N</td>\n",
       "      <td>1</td>\n",
       "      <td>1.25</td>\n",
       "      <td>United Kingdom</td>\n",
       "    </tr>\n",
       "    <tr>\n",
       "      <th>2010-01-04 17:39:00</th>\n",
       "      <td>90214C</td>\n",
       "      <td>1</td>\n",
       "      <td>1.25</td>\n",
       "      <td>United Kingdom</td>\n",
       "    </tr>\n",
       "    <tr>\n",
       "      <th>2010-01-04 17:39:00</th>\n",
       "      <td>21690</td>\n",
       "      <td>2</td>\n",
       "      <td>3.75</td>\n",
       "      <td>United Kingdom</td>\n",
       "    </tr>\n",
       "  </tbody>\n",
       "</table>\n",
       "<p>633 rows × 4 columns</p>\n",
       "</div>"
      ],
      "text/plain": [
       "                    StockCode  Quantity  Price         Country\n",
       "InvoiceDate                                                   \n",
       "2010-01-04 09:24:00   TEST001         5   4.50  United Kingdom\n",
       "2010-01-04 09:43:00     21539        -1   4.25  United Kingdom\n",
       "2010-01-04 09:53:00   TEST001         5   4.50  United Kingdom\n",
       "2010-01-04 10:28:00     21844        36   2.55  United Kingdom\n",
       "2010-01-04 10:28:00     21533        12   4.25  United Kingdom\n",
       "...                       ...       ...    ...             ...\n",
       "2010-01-04 17:39:00    90214G         1   1.25  United Kingdom\n",
       "2010-01-04 17:39:00    90214N         1   1.25  United Kingdom\n",
       "2010-01-04 17:39:00    90214N         1   1.25  United Kingdom\n",
       "2010-01-04 17:39:00    90214C         1   1.25  United Kingdom\n",
       "2010-01-04 17:39:00     21690         2   3.75  United Kingdom\n",
       "\n",
       "[633 rows x 4 columns]"
      ]
     },
     "execution_count": 11,
     "metadata": {},
     "output_type": "execute_result"
    }
   ],
   "source": [
    "retail['2010-01-04']"
   ]
  },
  {
   "cell_type": "markdown",
   "metadata": {},
   "source": [
    "You can use parts of a date, and date ranges. To view the **Jan** and **Feb** rows:"
   ]
  },
  {
   "cell_type": "code",
   "execution_count": 12,
   "metadata": {},
   "outputs": [
    {
     "data": {
      "text/html": [
       "<div>\n",
       "<style scoped>\n",
       "    .dataframe tbody tr th:only-of-type {\n",
       "        vertical-align: middle;\n",
       "    }\n",
       "\n",
       "    .dataframe tbody tr th {\n",
       "        vertical-align: top;\n",
       "    }\n",
       "\n",
       "    .dataframe thead th {\n",
       "        text-align: right;\n",
       "    }\n",
       "</style>\n",
       "<table border=\"1\" class=\"dataframe\">\n",
       "  <thead>\n",
       "    <tr style=\"text-align: right;\">\n",
       "      <th></th>\n",
       "      <th>StockCode</th>\n",
       "      <th>Quantity</th>\n",
       "      <th>Price</th>\n",
       "      <th>Country</th>\n",
       "    </tr>\n",
       "    <tr>\n",
       "      <th>InvoiceDate</th>\n",
       "      <th></th>\n",
       "      <th></th>\n",
       "      <th></th>\n",
       "      <th></th>\n",
       "    </tr>\n",
       "  </thead>\n",
       "  <tbody>\n",
       "    <tr>\n",
       "      <th>2010-01-04 09:24:00</th>\n",
       "      <td>TEST001</td>\n",
       "      <td>5</td>\n",
       "      <td>4.50</td>\n",
       "      <td>United Kingdom</td>\n",
       "    </tr>\n",
       "    <tr>\n",
       "      <th>2010-01-04 09:43:00</th>\n",
       "      <td>21539</td>\n",
       "      <td>-1</td>\n",
       "      <td>4.25</td>\n",
       "      <td>United Kingdom</td>\n",
       "    </tr>\n",
       "    <tr>\n",
       "      <th>2010-01-04 09:53:00</th>\n",
       "      <td>TEST001</td>\n",
       "      <td>5</td>\n",
       "      <td>4.50</td>\n",
       "      <td>United Kingdom</td>\n",
       "    </tr>\n",
       "    <tr>\n",
       "      <th>2010-01-04 10:28:00</th>\n",
       "      <td>21844</td>\n",
       "      <td>36</td>\n",
       "      <td>2.55</td>\n",
       "      <td>United Kingdom</td>\n",
       "    </tr>\n",
       "    <tr>\n",
       "      <th>2010-01-04 10:28:00</th>\n",
       "      <td>21533</td>\n",
       "      <td>12</td>\n",
       "      <td>4.25</td>\n",
       "      <td>United Kingdom</td>\n",
       "    </tr>\n",
       "    <tr>\n",
       "      <th>...</th>\n",
       "      <td>...</td>\n",
       "      <td>...</td>\n",
       "      <td>...</td>\n",
       "      <td>...</td>\n",
       "    </tr>\n",
       "    <tr>\n",
       "      <th>2010-02-28 16:14:00</th>\n",
       "      <td>84279B</td>\n",
       "      <td>1</td>\n",
       "      <td>3.75</td>\n",
       "      <td>United Kingdom</td>\n",
       "    </tr>\n",
       "    <tr>\n",
       "      <th>2010-02-28 16:14:00</th>\n",
       "      <td>84882</td>\n",
       "      <td>1</td>\n",
       "      <td>3.75</td>\n",
       "      <td>United Kingdom</td>\n",
       "    </tr>\n",
       "    <tr>\n",
       "      <th>2010-02-28 16:14:00</th>\n",
       "      <td>84882</td>\n",
       "      <td>1</td>\n",
       "      <td>3.75</td>\n",
       "      <td>United Kingdom</td>\n",
       "    </tr>\n",
       "    <tr>\n",
       "      <th>2010-02-28 16:14:00</th>\n",
       "      <td>44242B</td>\n",
       "      <td>5</td>\n",
       "      <td>1.25</td>\n",
       "      <td>United Kingdom</td>\n",
       "    </tr>\n",
       "    <tr>\n",
       "      <th>2010-02-28 16:16:00</th>\n",
       "      <td>10133</td>\n",
       "      <td>40</td>\n",
       "      <td>0.85</td>\n",
       "      <td>United Kingdom</td>\n",
       "    </tr>\n",
       "  </tbody>\n",
       "</table>\n",
       "<p>46345 rows × 4 columns</p>\n",
       "</div>"
      ],
      "text/plain": [
       "                    StockCode  Quantity  Price         Country\n",
       "InvoiceDate                                                   \n",
       "2010-01-04 09:24:00   TEST001         5   4.50  United Kingdom\n",
       "2010-01-04 09:43:00     21539        -1   4.25  United Kingdom\n",
       "2010-01-04 09:53:00   TEST001         5   4.50  United Kingdom\n",
       "2010-01-04 10:28:00     21844        36   2.55  United Kingdom\n",
       "2010-01-04 10:28:00     21533        12   4.25  United Kingdom\n",
       "...                       ...       ...    ...             ...\n",
       "2010-02-28 16:14:00    84279B         1   3.75  United Kingdom\n",
       "2010-02-28 16:14:00     84882         1   3.75  United Kingdom\n",
       "2010-02-28 16:14:00     84882         1   3.75  United Kingdom\n",
       "2010-02-28 16:14:00    44242B         5   1.25  United Kingdom\n",
       "2010-02-28 16:16:00     10133        40   0.85  United Kingdom\n",
       "\n",
       "[46345 rows x 4 columns]"
      ]
     },
     "execution_count": 12,
     "metadata": {},
     "output_type": "execute_result"
    }
   ],
   "source": [
    "retail['2010-01':'2010-02']"
   ]
  },
  {
   "cell_type": "markdown",
   "metadata": {},
   "source": [
    "The date range starts at:"
   ]
  },
  {
   "cell_type": "code",
   "execution_count": 13,
   "metadata": {},
   "outputs": [
    {
     "data": {
      "text/plain": [
       "Timestamp('2009-12-01 07:45:00')"
      ]
     },
     "execution_count": 13,
     "metadata": {},
     "output_type": "execute_result"
    }
   ],
   "source": [
    "retail.index.min()"
   ]
  },
  {
   "cell_type": "markdown",
   "metadata": {},
   "source": [
    "The date range ends at:"
   ]
  },
  {
   "cell_type": "code",
   "execution_count": 14,
   "metadata": {},
   "outputs": [
    {
     "data": {
      "text/plain": [
       "Timestamp('2010-12-09 20:01:00')"
      ]
     },
     "execution_count": 14,
     "metadata": {},
     "output_type": "execute_result"
    }
   ],
   "source": [
    "retail.index.max()"
   ]
  },
  {
   "cell_type": "markdown",
   "metadata": {},
   "source": [
    "With pandas, you can extract date information easily. You might extract date information to explore the data further and look for time-related trends.\n",
    "\n",
    "Extract the year, month, and day of the week."
   ]
  },
  {
   "cell_type": "code",
   "execution_count": 15,
   "metadata": {},
   "outputs": [],
   "source": [
    "retail['Year'] = retail.index.year\n",
    "retail['Month'] = retail.index.month\n",
    "retail['weekday_name'] = retail.index.day_name()"
   ]
  },
  {
   "cell_type": "code",
   "execution_count": 16,
   "metadata": {},
   "outputs": [
    {
     "data": {
      "text/html": [
       "<div>\n",
       "<style scoped>\n",
       "    .dataframe tbody tr th:only-of-type {\n",
       "        vertical-align: middle;\n",
       "    }\n",
       "\n",
       "    .dataframe tbody tr th {\n",
       "        vertical-align: top;\n",
       "    }\n",
       "\n",
       "    .dataframe thead th {\n",
       "        text-align: right;\n",
       "    }\n",
       "</style>\n",
       "<table border=\"1\" class=\"dataframe\">\n",
       "  <thead>\n",
       "    <tr style=\"text-align: right;\">\n",
       "      <th></th>\n",
       "      <th>StockCode</th>\n",
       "      <th>Quantity</th>\n",
       "      <th>Price</th>\n",
       "      <th>Country</th>\n",
       "      <th>Year</th>\n",
       "      <th>Month</th>\n",
       "      <th>weekday_name</th>\n",
       "    </tr>\n",
       "    <tr>\n",
       "      <th>InvoiceDate</th>\n",
       "      <th></th>\n",
       "      <th></th>\n",
       "      <th></th>\n",
       "      <th></th>\n",
       "      <th></th>\n",
       "      <th></th>\n",
       "      <th></th>\n",
       "    </tr>\n",
       "  </thead>\n",
       "  <tbody>\n",
       "    <tr>\n",
       "      <th>2009-12-01 07:45:00</th>\n",
       "      <td>85048</td>\n",
       "      <td>12</td>\n",
       "      <td>6.95</td>\n",
       "      <td>United Kingdom</td>\n",
       "      <td>2009</td>\n",
       "      <td>12</td>\n",
       "      <td>Tuesday</td>\n",
       "    </tr>\n",
       "    <tr>\n",
       "      <th>2009-12-01 07:45:00</th>\n",
       "      <td>79323P</td>\n",
       "      <td>12</td>\n",
       "      <td>6.75</td>\n",
       "      <td>United Kingdom</td>\n",
       "      <td>2009</td>\n",
       "      <td>12</td>\n",
       "      <td>Tuesday</td>\n",
       "    </tr>\n",
       "    <tr>\n",
       "      <th>2009-12-01 07:45:00</th>\n",
       "      <td>79323W</td>\n",
       "      <td>12</td>\n",
       "      <td>6.75</td>\n",
       "      <td>United Kingdom</td>\n",
       "      <td>2009</td>\n",
       "      <td>12</td>\n",
       "      <td>Tuesday</td>\n",
       "    </tr>\n",
       "    <tr>\n",
       "      <th>2009-12-01 07:45:00</th>\n",
       "      <td>22041</td>\n",
       "      <td>48</td>\n",
       "      <td>2.10</td>\n",
       "      <td>United Kingdom</td>\n",
       "      <td>2009</td>\n",
       "      <td>12</td>\n",
       "      <td>Tuesday</td>\n",
       "    </tr>\n",
       "    <tr>\n",
       "      <th>2009-12-01 07:45:00</th>\n",
       "      <td>21232</td>\n",
       "      <td>24</td>\n",
       "      <td>1.25</td>\n",
       "      <td>United Kingdom</td>\n",
       "      <td>2009</td>\n",
       "      <td>12</td>\n",
       "      <td>Tuesday</td>\n",
       "    </tr>\n",
       "  </tbody>\n",
       "</table>\n",
       "</div>"
      ],
      "text/plain": [
       "                    StockCode  Quantity  Price         Country  Year  Month  \\\n",
       "InvoiceDate                                                                   \n",
       "2009-12-01 07:45:00     85048        12   6.95  United Kingdom  2009     12   \n",
       "2009-12-01 07:45:00    79323P        12   6.75  United Kingdom  2009     12   \n",
       "2009-12-01 07:45:00    79323W        12   6.75  United Kingdom  2009     12   \n",
       "2009-12-01 07:45:00     22041        48   2.10  United Kingdom  2009     12   \n",
       "2009-12-01 07:45:00     21232        24   1.25  United Kingdom  2009     12   \n",
       "\n",
       "                    weekday_name  \n",
       "InvoiceDate                       \n",
       "2009-12-01 07:45:00      Tuesday  \n",
       "2009-12-01 07:45:00      Tuesday  \n",
       "2009-12-01 07:45:00      Tuesday  \n",
       "2009-12-01 07:45:00      Tuesday  \n",
       "2009-12-01 07:45:00      Tuesday  "
      ]
     },
     "execution_count": 16,
     "metadata": {},
     "output_type": "execute_result"
    }
   ],
   "source": [
    "retail.head()"
   ]
  },
  {
   "cell_type": "markdown",
   "metadata": {},
   "source": [
    "The dataset that you now have includes purchases made between December 2009 and December 2010. It's reasonable to assume there would be some seasonality in this data. You will now investigate whether there is seasonality."
   ]
  },
  {
   "cell_type": "code",
   "execution_count": 17,
   "metadata": {},
   "outputs": [
    {
     "data": {
      "text/plain": [
       "<AxesSubplot:>"
      ]
     },
     "execution_count": 17,
     "metadata": {},
     "output_type": "execute_result"
    },
    {
     "data": {
      "image/png": "[encoded data removed]",
      "text/plain": [
       "<Figure size 432x288 with 1 Axes>"
      ]
     },
     "metadata": {
      "needs_background": "light"
     },
     "output_type": "display_data"
    }
   ],
   "source": [
    "retail.Month.value_counts(sort=False).plot(kind='bar')"
   ]
  },
  {
   "cell_type": "markdown",
   "metadata": {},
   "source": [
    "From the chart, you could deduce some seasonality:\n",
    "\n",
    "1. November and December seem to be higher than the rest of the year.\n",
    "\n",
    "2. Q4 seems to be higher than other quarters.\n",
    "\n",
    "3. For Q1, Q2, and Q3: The last month of the quarter (months 3, 6, and 9) seem to have spikes.\n",
    "\n",
    "Do you notice any other seasonal patterns?"
   ]
  },
  {
   "cell_type": "markdown",
   "metadata": {},
   "source": [
    "Now, investigate whether there is any seasonality during the week."
   ]
  },
  {
   "cell_type": "code",
   "execution_count": 18,
   "metadata": {},
   "outputs": [
    {
     "data": {
      "text/plain": [
       "<AxesSubplot:>"
      ]
     },
     "execution_count": 18,
     "metadata": {},
     "output_type": "execute_result"
    },
    {
     "data": {
      "image/png": "[encoded data removed]",
      "text/plain": [
       "<Figure size 432x288 with 1 Axes>"
      ]
     },
     "metadata": {
      "needs_background": "light"
     },
     "output_type": "display_data"
    }
   ],
   "source": [
    "day_order = [\"Monday\", \"Tuesday\", \"Wednesday\", \"Thursday\", \"Friday\", \"Saturday\", \"Sunday\"]\n",
    "retail.weekday_name.value_counts(sort=False).loc[day_order].plot(kind='bar')"
   ]
  },
  {
   "cell_type": "markdown",
   "metadata": {},
   "source": [
    "Saturday shows very few orders. Why might this be the case?"
   ]
  },
  {
   "cell_type": "markdown",
   "metadata": {},
   "source": [
    "## Task 3: Cleaning and reducing the size of the data"
   ]
  },
  {
   "cell_type": "markdown",
   "metadata": {},
   "source": [
    "In this task, you will reduce the size of the data. You will also remove any anomalies, such as negative prices, outliers, and country data."
   ]
  },
  {
   "cell_type": "markdown",
   "metadata": {},
   "source": [
    "### Reducing the countries\n",
    "Examine the **Country** data."
   ]
  },
  {
   "cell_type": "code",
   "execution_count": 19,
   "metadata": {},
   "outputs": [
    {
     "data": {
      "text/plain": [
       "array(['United Kingdom', 'France', 'USA', 'Belgium', 'Australia', 'EIRE',\n",
       "       'Germany', 'Portugal', 'Japan', 'Denmark', 'Netherlands', 'Poland',\n",
       "       'Spain', 'Channel Islands', 'Italy', 'Cyprus', 'Greece', 'Norway',\n",
       "       'Austria', 'Sweden', 'United Arab Emirates', 'Finland',\n",
       "       'Switzerland', 'Unspecified', 'Nigeria', 'Malta', 'RSA',\n",
       "       'Singapore', 'Bahrain', 'Thailand', 'Israel', 'Lithuania',\n",
       "       'West Indies', 'Korea', 'Brazil', 'Canada', 'Iceland'],\n",
       "      dtype=object)"
      ]
     },
     "execution_count": 19,
     "metadata": {},
     "output_type": "execute_result"
    }
   ],
   "source": [
    "retail.Country.unique()"
   ]
  },
  {
   "cell_type": "code",
   "execution_count": 20,
   "metadata": {},
   "outputs": [
    {
     "data": {
      "text/plain": [
       "United Kingdom          379423\n",
       "EIRE                      8710\n",
       "Germany                   8129\n",
       "France                    5710\n",
       "Netherlands               2769\n",
       "Spain                     1278\n",
       "Switzerland               1187\n",
       "Belgium                   1054\n",
       "Portugal                  1024\n",
       "Channel Islands            906\n",
       "Sweden                     883\n",
       "Italy                      731\n",
       "Australia                  654\n",
       "Cyprus                     554\n",
       "Austria                    537\n",
       "Greece                     517\n",
       "Denmark                    428\n",
       "Norway                     369\n",
       "Finland                    354\n",
       "United Arab Emirates       318\n",
       "Unspecified                280\n",
       "USA                        244\n",
       "Japan                      224\n",
       "Poland                     194\n",
       "Malta                      172\n",
       "Lithuania                  154\n",
       "Singapore                  117\n",
       "Canada                      77\n",
       "Thailand                    76\n",
       "Israel                      74\n",
       "Iceland                     71\n",
       "RSA                         65\n",
       "Korea                       63\n",
       "Brazil                      62\n",
       "West Indies                 54\n",
       "Bahrain                     42\n",
       "Nigeria                     30\n",
       "Name: Country, dtype: int64"
      ]
     },
     "execution_count": 20,
     "metadata": {},
     "output_type": "execute_result"
    }
   ],
   "source": [
    "retail.Country.value_counts()"
   ]
  },
  {
   "cell_type": "markdown",
   "metadata": {},
   "source": [
    "Most of the data seems to be for the United Kingdom. To make your job easier, filter the data by *United Kingdom*."
   ]
  },
  {
   "cell_type": "code",
   "execution_count": 21,
   "metadata": {},
   "outputs": [],
   "source": [
    "country_filter = ['United Kingdom']\n",
    "retail = retail[retail.Country.isin(country_filter)]"
   ]
  },
  {
   "cell_type": "markdown",
   "metadata": {},
   "source": [
    "Because the **Country** column only contains the same value, you can drop it."
   ]
  },
  {
   "cell_type": "code",
   "execution_count": 22,
   "metadata": {},
   "outputs": [],
   "source": [
    "retail = retail[['StockCode','Quantity','Price']]"
   ]
  },
  {
   "cell_type": "code",
   "execution_count": 23,
   "metadata": {},
   "outputs": [
    {
     "data": {
      "text/html": [
       "<div>\n",
       "<style scoped>\n",
       "    .dataframe tbody tr th:only-of-type {\n",
       "        vertical-align: middle;\n",
       "    }\n",
       "\n",
       "    .dataframe tbody tr th {\n",
       "        vertical-align: top;\n",
       "    }\n",
       "\n",
       "    .dataframe thead th {\n",
       "        text-align: right;\n",
       "    }\n",
       "</style>\n",
       "<table border=\"1\" class=\"dataframe\">\n",
       "  <thead>\n",
       "    <tr style=\"text-align: right;\">\n",
       "      <th></th>\n",
       "      <th>StockCode</th>\n",
       "      <th>Quantity</th>\n",
       "      <th>Price</th>\n",
       "    </tr>\n",
       "    <tr>\n",
       "      <th>InvoiceDate</th>\n",
       "      <th></th>\n",
       "      <th></th>\n",
       "      <th></th>\n",
       "    </tr>\n",
       "  </thead>\n",
       "  <tbody>\n",
       "    <tr>\n",
       "      <th>2009-12-01 07:45:00</th>\n",
       "      <td>85048</td>\n",
       "      <td>12</td>\n",
       "      <td>6.95</td>\n",
       "    </tr>\n",
       "    <tr>\n",
       "      <th>2009-12-01 07:45:00</th>\n",
       "      <td>79323P</td>\n",
       "      <td>12</td>\n",
       "      <td>6.75</td>\n",
       "    </tr>\n",
       "    <tr>\n",
       "      <th>2009-12-01 07:45:00</th>\n",
       "      <td>79323W</td>\n",
       "      <td>12</td>\n",
       "      <td>6.75</td>\n",
       "    </tr>\n",
       "    <tr>\n",
       "      <th>2009-12-01 07:45:00</th>\n",
       "      <td>22041</td>\n",
       "      <td>48</td>\n",
       "      <td>2.10</td>\n",
       "    </tr>\n",
       "    <tr>\n",
       "      <th>2009-12-01 07:45:00</th>\n",
       "      <td>21232</td>\n",
       "      <td>24</td>\n",
       "      <td>1.25</td>\n",
       "    </tr>\n",
       "  </tbody>\n",
       "</table>\n",
       "</div>"
      ],
      "text/plain": [
       "                    StockCode  Quantity  Price\n",
       "InvoiceDate                                   \n",
       "2009-12-01 07:45:00     85048        12   6.95\n",
       "2009-12-01 07:45:00    79323P        12   6.75\n",
       "2009-12-01 07:45:00    79323W        12   6.75\n",
       "2009-12-01 07:45:00     22041        48   2.10\n",
       "2009-12-01 07:45:00     21232        24   1.25"
      ]
     },
     "execution_count": 23,
     "metadata": {},
     "output_type": "execute_result"
    }
   ],
   "source": [
    "retail.head()"
   ]
  },
  {
   "cell_type": "markdown",
   "metadata": {},
   "source": [
    "### Examining StockCode and removing anomalies\n",
    "\n",
    "Examine the distribution of the **StockCode** column:"
   ]
  },
  {
   "cell_type": "code",
   "execution_count": 24,
   "metadata": {},
   "outputs": [
    {
     "data": {
      "text/plain": [
       "count     379423\n",
       "unique      4015\n",
       "top       85123A\n",
       "freq        3140\n",
       "Name: StockCode, dtype: object"
      ]
     },
     "execution_count": 24,
     "metadata": {},
     "output_type": "execute_result"
    }
   ],
   "source": [
    "retail.StockCode.describe()"
   ]
  },
  {
   "cell_type": "markdown",
   "metadata": {},
   "source": [
    "There are 4,015 unique values for **StockCode**. A quick plot of the counts might give you some insight into how the values are distributed."
   ]
  },
  {
   "cell_type": "code",
   "execution_count": 25,
   "metadata": {},
   "outputs": [
    {
     "data": {
      "text/plain": [
       "<AxesSubplot:>"
      ]
     },
     "execution_count": 25,
     "metadata": {},
     "output_type": "execute_result"
    },
    {
     "data": {
      "image/png": "[encoded data removed]",
      "text/plain": [
       "<Figure size 432x288 with 1 Axes>"
      ]
     },
     "metadata": {
      "needs_background": "light"
     },
     "output_type": "display_data"
    }
   ],
   "source": [
    "retail.StockCode.value_counts().plot()"
   ]
  },
  {
   "cell_type": "markdown",
   "metadata": {},
   "source": [
    "It seems that there are a few high-selling products, with a long tail behind them. You could investigate this situation further. However, for now, examine **Quantity**."
   ]
  },
  {
   "cell_type": "code",
   "execution_count": 26,
   "metadata": {},
   "outputs": [
    {
     "data": {
      "text/plain": [
       "count    379423.000000\n",
       "mean         11.451517\n",
       "std          68.943709\n",
       "min       -9360.000000\n",
       "25%           2.000000\n",
       "50%           4.000000\n",
       "75%          12.000000\n",
       "max       10000.000000\n",
       "Name: Quantity, dtype: float64"
      ]
     },
     "execution_count": 26,
     "metadata": {},
     "output_type": "execute_result"
    }
   ],
   "source": [
    "retail.Quantity.describe()"
   ]
  },
  {
   "cell_type": "code",
   "execution_count": 27,
   "metadata": {},
   "outputs": [
    {
     "data": {
      "text/plain": [
       "<AxesSubplot:xlabel='InvoiceDate'>"
      ]
     },
     "execution_count": 27,
     "metadata": {},
     "output_type": "execute_result"
    },
    {
     "data": {
      "image/png": "[encoded data removed]",
      "text/plain": [
       "<Figure size 432x288 with 1 Axes>"
      ]
     },
     "metadata": {
      "needs_background": "light"
     },
     "output_type": "display_data"
    }
   ],
   "source": [
    "retail.Quantity.plot()"
   ]
  },
  {
   "cell_type": "markdown",
   "metadata": {},
   "source": [
    "From the initial plot, notice a couple of interesting aspects.\n",
    "\n",
    "1. There appear to be negative quantities.\n",
    "\n",
    "2. There are very large spikes throughout the year.\n"
   ]
  },
  {
   "cell_type": "markdown",
   "metadata": {},
   "source": [
    "Negative and zero quantities could impact the forecast if you don't know why these values exist. To make things easier for now, you will remove negative and zero quantities"
   ]
  },
  {
   "cell_type": "code",
   "execution_count": 28,
   "metadata": {},
   "outputs": [],
   "source": [
    "retail = retail[retail.Quantity>0]"
   ]
  },
  {
   "cell_type": "markdown",
   "metadata": {},
   "source": [
    "Now, examine **Price**."
   ]
  },
  {
   "cell_type": "code",
   "execution_count": 29,
   "metadata": {},
   "outputs": [
    {
     "data": {
      "text/plain": [
       "count    370951.000000\n",
       "mean          3.145220\n",
       "std          30.551482\n",
       "min           0.000000\n",
       "25%           1.250000\n",
       "50%           1.950000\n",
       "75%           3.750000\n",
       "max       10953.500000\n",
       "Name: Price, dtype: float64"
      ]
     },
     "execution_count": 29,
     "metadata": {},
     "output_type": "execute_result"
    }
   ],
   "source": [
    "retail.Price.describe()"
   ]
  },
  {
   "cell_type": "code",
   "execution_count": 30,
   "metadata": {},
   "outputs": [
    {
     "data": {
      "text/plain": [
       "<AxesSubplot:xlabel='InvoiceDate'>"
      ]
     },
     "execution_count": 30,
     "metadata": {},
     "output_type": "execute_result"
    },
    {
     "data": {
      "image/png": "[encoded data removed]",
      "text/plain": [
       "<Figure size 432x288 with 1 Axes>"
      ]
     },
     "metadata": {
      "needs_background": "light"
     },
     "output_type": "display_data"
    }
   ],
   "source": [
    "retail.Price.plot()"
   ]
  },
  {
   "cell_type": "markdown",
   "metadata": {},
   "source": [
    "The plot shows some clear price spikes. You will now try to find out why these spikes exist."
   ]
  },
  {
   "cell_type": "code",
   "execution_count": 31,
   "metadata": {},
   "outputs": [
    {
     "data": {
      "text/html": [
       "<div>\n",
       "<style scoped>\n",
       "    .dataframe tbody tr th:only-of-type {\n",
       "        vertical-align: middle;\n",
       "    }\n",
       "\n",
       "    .dataframe tbody tr th {\n",
       "        vertical-align: top;\n",
       "    }\n",
       "\n",
       "    .dataframe thead th {\n",
       "        text-align: right;\n",
       "    }\n",
       "</style>\n",
       "<table border=\"1\" class=\"dataframe\">\n",
       "  <thead>\n",
       "    <tr style=\"text-align: right;\">\n",
       "      <th></th>\n",
       "      <th>StockCode</th>\n",
       "      <th>Quantity</th>\n",
       "      <th>Price</th>\n",
       "    </tr>\n",
       "    <tr>\n",
       "      <th>InvoiceDate</th>\n",
       "      <th></th>\n",
       "      <th></th>\n",
       "      <th></th>\n",
       "    </tr>\n",
       "  </thead>\n",
       "  <tbody>\n",
       "    <tr>\n",
       "      <th>2009-12-10 11:50:00</th>\n",
       "      <td>M</td>\n",
       "      <td>1</td>\n",
       "      <td>1213.02</td>\n",
       "    </tr>\n",
       "    <tr>\n",
       "      <th>2010-01-29 11:04:00</th>\n",
       "      <td>M</td>\n",
       "      <td>1</td>\n",
       "      <td>8985.60</td>\n",
       "    </tr>\n",
       "    <tr>\n",
       "      <th>2010-03-23 15:22:00</th>\n",
       "      <td>M</td>\n",
       "      <td>1</td>\n",
       "      <td>10953.50</td>\n",
       "    </tr>\n",
       "    <tr>\n",
       "      <th>2010-06-08 16:39:00</th>\n",
       "      <td>M</td>\n",
       "      <td>1</td>\n",
       "      <td>849.45</td>\n",
       "    </tr>\n",
       "    <tr>\n",
       "      <th>2010-06-11 15:54:00</th>\n",
       "      <td>M</td>\n",
       "      <td>1</td>\n",
       "      <td>1000.63</td>\n",
       "    </tr>\n",
       "  </tbody>\n",
       "</table>\n",
       "</div>"
      ],
      "text/plain": [
       "                    StockCode  Quantity     Price\n",
       "InvoiceDate                                      \n",
       "2009-12-10 11:50:00         M         1   1213.02\n",
       "2010-01-29 11:04:00         M         1   8985.60\n",
       "2010-03-23 15:22:00         M         1  10953.50\n",
       "2010-06-08 16:39:00         M         1    849.45\n",
       "2010-06-11 15:54:00         M         1   1000.63"
      ]
     },
     "execution_count": 31,
     "metadata": {},
     "output_type": "execute_result"
    }
   ],
   "source": [
    "retail[retail.Price>500].head()"
   ]
  },
  {
   "cell_type": "markdown",
   "metadata": {},
   "source": [
    "The **StockCode** value of *M* looks unusual. If you had access to a domain expert, you could learn about the importance of *M*. Because you can't ask a domain expert for this lab, you will drop everything that has a **StockCode** value of *M*."
   ]
  },
  {
   "cell_type": "code",
   "execution_count": 32,
   "metadata": {},
   "outputs": [],
   "source": [
    "retail = retail[retail.StockCode!='M']"
   ]
  },
  {
   "cell_type": "code",
   "execution_count": 33,
   "metadata": {},
   "outputs": [
    {
     "data": {
      "text/plain": [
       "count    370576.000000\n",
       "mean          3.009463\n",
       "std           4.576951\n",
       "min           0.000000\n",
       "25%           1.250000\n",
       "50%           1.950000\n",
       "75%           3.750000\n",
       "max         387.540000\n",
       "Name: Price, dtype: float64"
      ]
     },
     "execution_count": 33,
     "metadata": {},
     "output_type": "execute_result"
    }
   ],
   "source": [
    "retail.Price.describe()"
   ]
  },
  {
   "cell_type": "markdown",
   "metadata": {},
   "source": [
    "This result is better, but the **max** value is still high. You will now investigate this situation further."
   ]
  },
  {
   "cell_type": "code",
   "execution_count": 34,
   "metadata": {},
   "outputs": [
    {
     "data": {
      "text/html": [
       "<div>\n",
       "<style scoped>\n",
       "    .dataframe tbody tr th:only-of-type {\n",
       "        vertical-align: middle;\n",
       "    }\n",
       "\n",
       "    .dataframe tbody tr th {\n",
       "        vertical-align: top;\n",
       "    }\n",
       "\n",
       "    .dataframe thead th {\n",
       "        text-align: right;\n",
       "    }\n",
       "</style>\n",
       "<table border=\"1\" class=\"dataframe\">\n",
       "  <thead>\n",
       "    <tr style=\"text-align: right;\">\n",
       "      <th></th>\n",
       "      <th>StockCode</th>\n",
       "      <th>Quantity</th>\n",
       "      <th>Price</th>\n",
       "    </tr>\n",
       "    <tr>\n",
       "      <th>InvoiceDate</th>\n",
       "      <th></th>\n",
       "      <th></th>\n",
       "      <th></th>\n",
       "    </tr>\n",
       "  </thead>\n",
       "  <tbody>\n",
       "    <tr>\n",
       "      <th>2010-01-26 16:29:00</th>\n",
       "      <td>ADJUST</td>\n",
       "      <td>1</td>\n",
       "      <td>342.80</td>\n",
       "    </tr>\n",
       "    <tr>\n",
       "      <th>2010-01-26 17:28:00</th>\n",
       "      <td>ADJUST</td>\n",
       "      <td>1</td>\n",
       "      <td>387.54</td>\n",
       "    </tr>\n",
       "    <tr>\n",
       "      <th>2010-06-25 14:15:00</th>\n",
       "      <td>ADJUST2</td>\n",
       "      <td>1</td>\n",
       "      <td>300.13</td>\n",
       "    </tr>\n",
       "    <tr>\n",
       "      <th>2010-06-25 14:15:00</th>\n",
       "      <td>ADJUST2</td>\n",
       "      <td>1</td>\n",
       "      <td>358.47</td>\n",
       "    </tr>\n",
       "    <tr>\n",
       "      <th>2010-08-04 11:38:00</th>\n",
       "      <td>POST</td>\n",
       "      <td>1</td>\n",
       "      <td>334.88</td>\n",
       "    </tr>\n",
       "  </tbody>\n",
       "</table>\n",
       "</div>"
      ],
      "text/plain": [
       "                    StockCode  Quantity   Price\n",
       "InvoiceDate                                    \n",
       "2010-01-26 16:29:00    ADJUST         1  342.80\n",
       "2010-01-26 17:28:00    ADJUST         1  387.54\n",
       "2010-06-25 14:15:00   ADJUST2         1  300.13\n",
       "2010-06-25 14:15:00   ADJUST2         1  358.47\n",
       "2010-08-04 11:38:00      POST         1  334.88"
      ]
     },
     "execution_count": 34,
     "metadata": {},
     "output_type": "execute_result"
    }
   ],
   "source": [
    "retail[retail.Price>300].head(20)"
   ]
  },
  {
   "cell_type": "markdown",
   "metadata": {},
   "source": [
    "It seems that some adjustments occurred. You will also drop any data that shows these adjustments."
   ]
  },
  {
   "cell_type": "code",
   "execution_count": 35,
   "metadata": {},
   "outputs": [],
   "source": [
    "stockcodes = ['ADJUST', 'ADJUST2', 'POST']\n",
    "retail = retail[~retail.StockCode.isin(stockcodes)]"
   ]
  },
  {
   "cell_type": "code",
   "execution_count": 36,
   "metadata": {},
   "outputs": [
    {
     "data": {
      "text/plain": [
       "count    370554.000000\n",
       "mean          3.002500\n",
       "std           4.363688\n",
       "min           0.000000\n",
       "25%           1.250000\n",
       "50%           1.950000\n",
       "75%           3.750000\n",
       "max         295.000000\n",
       "Name: Price, dtype: float64"
      ]
     },
     "execution_count": 36,
     "metadata": {},
     "output_type": "execute_result"
    }
   ],
   "source": [
    "retail.Price.describe()"
   ]
  },
  {
   "cell_type": "markdown",
   "metadata": {},
   "source": [
    "You will now examine zero-priced items."
   ]
  },
  {
   "cell_type": "code",
   "execution_count": 37,
   "metadata": {},
   "outputs": [
    {
     "data": {
      "text/plain": [
       "<bound method DataFrame.count of                     StockCode  Quantity  Price\n",
       "InvoiceDate                                   \n",
       "2009-12-02 13:34:00     22076        12    0.0\n",
       "2009-12-03 11:19:00     48185         2    0.0\n",
       "2009-12-08 15:25:00     22065         1    0.0\n",
       "2009-12-08 15:25:00     22142        12    0.0\n",
       "2009-12-15 13:49:00     85042         8    0.0\n",
       "2009-12-18 14:22:00     21143        12    0.0\n",
       "2010-01-06 14:54:00     79320        24    0.0\n",
       "2010-01-15 12:43:00     21533        12    0.0\n",
       "2010-02-12 14:58:00   TEST001         5    0.0\n",
       "2010-02-12 15:47:00   TEST001         5    0.0\n",
       "2010-03-04 11:44:00     21662         1    0.0\n",
       "2010-04-01 17:13:00     22459         8    0.0\n",
       "2010-04-01 17:13:00     22458         8    0.0\n",
       "2010-06-11 11:12:00     21765         1    0.0\n",
       "2010-06-17 10:12:00     20914         2    0.0\n",
       "2010-06-24 12:34:00     22423         5    0.0\n",
       "2010-07-19 13:13:00     22690         6    0.0\n",
       "2010-09-27 16:59:00    46000M       648    0.0\n",
       "2010-09-30 12:19:00     22218         2    0.0\n",
       "2010-10-18 15:13:00     22121         1    0.0\n",
       "2010-11-07 14:26:00     21843         2    0.0>"
      ]
     },
     "execution_count": 37,
     "metadata": {},
     "output_type": "execute_result"
    }
   ],
   "source": [
    "retail[retail.Price==0].count"
   ]
  },
  {
   "cell_type": "markdown",
   "metadata": {},
   "source": [
    "There aren't many values in these results, so you can drop zero-priced items."
   ]
  },
  {
   "cell_type": "code",
   "execution_count": 38,
   "metadata": {},
   "outputs": [],
   "source": [
    "retail = retail[retail.Price>0]"
   ]
  },
  {
   "cell_type": "markdown",
   "metadata": {},
   "source": [
    "### Splitting the data"
   ]
  },
  {
   "cell_type": "markdown",
   "metadata": {},
   "source": [
    "The timeseries data that you need to create a forecast requires a *timestamp*, an *itemId*, and a *demand*. These features will map to the **InvoiceDate**, **StockCode**, and **Quantity** columns.\n",
    "\n",
    "The related timeseries data needs a *timestamp*, an *itemId*, and a *price*. These features will map to the **InvoiceDate**, **StockCode**, and **Price** columns.\n",
    "\n",
    "Create the two DataFrames:"
   ]
  },
  {
   "cell_type": "code",
   "execution_count": 39,
   "metadata": {},
   "outputs": [],
   "source": [
    "df_time_series = retail[['StockCode','Quantity']]\n",
    "df_related_time_series = retail[['StockCode','Price']]"
   ]
  },
  {
   "cell_type": "markdown",
   "metadata": {},
   "source": [
    "### Downsampling"
   ]
  },
  {
   "cell_type": "markdown",
   "metadata": {},
   "source": [
    "You will now examine a single item."
   ]
  },
  {
   "cell_type": "code",
   "execution_count": 40,
   "metadata": {},
   "outputs": [
    {
     "data": {
      "text/html": [
       "<div>\n",
       "<style scoped>\n",
       "    .dataframe tbody tr th:only-of-type {\n",
       "        vertical-align: middle;\n",
       "    }\n",
       "\n",
       "    .dataframe tbody tr th {\n",
       "        vertical-align: top;\n",
       "    }\n",
       "\n",
       "    .dataframe thead th {\n",
       "        text-align: right;\n",
       "    }\n",
       "</style>\n",
       "<table border=\"1\" class=\"dataframe\">\n",
       "  <thead>\n",
       "    <tr style=\"text-align: right;\">\n",
       "      <th></th>\n",
       "      <th>StockCode</th>\n",
       "      <th>Quantity</th>\n",
       "    </tr>\n",
       "    <tr>\n",
       "      <th>InvoiceDate</th>\n",
       "      <th></th>\n",
       "      <th></th>\n",
       "    </tr>\n",
       "  </thead>\n",
       "  <tbody>\n",
       "    <tr>\n",
       "      <th>2009-12-01 07:45:00</th>\n",
       "      <td>21232</td>\n",
       "      <td>24</td>\n",
       "    </tr>\n",
       "    <tr>\n",
       "      <th>2009-12-01 10:49:00</th>\n",
       "      <td>21232</td>\n",
       "      <td>48</td>\n",
       "    </tr>\n",
       "    <tr>\n",
       "      <th>2009-12-01 12:13:00</th>\n",
       "      <td>21232</td>\n",
       "      <td>3</td>\n",
       "    </tr>\n",
       "    <tr>\n",
       "      <th>2009-12-01 12:14:00</th>\n",
       "      <td>21232</td>\n",
       "      <td>20</td>\n",
       "    </tr>\n",
       "    <tr>\n",
       "      <th>2009-12-01 13:31:00</th>\n",
       "      <td>21232</td>\n",
       "      <td>4</td>\n",
       "    </tr>\n",
       "    <tr>\n",
       "      <th>2009-12-01 13:37:00</th>\n",
       "      <td>21232</td>\n",
       "      <td>12</td>\n",
       "    </tr>\n",
       "    <tr>\n",
       "      <th>2009-12-01 13:43:00</th>\n",
       "      <td>21232</td>\n",
       "      <td>24</td>\n",
       "    </tr>\n",
       "    <tr>\n",
       "      <th>2009-12-01 14:19:00</th>\n",
       "      <td>21232</td>\n",
       "      <td>12</td>\n",
       "    </tr>\n",
       "    <tr>\n",
       "      <th>2009-12-01 15:26:00</th>\n",
       "      <td>21232</td>\n",
       "      <td>12</td>\n",
       "    </tr>\n",
       "    <tr>\n",
       "      <th>2009-12-01 16:18:00</th>\n",
       "      <td>21232</td>\n",
       "      <td>12</td>\n",
       "    </tr>\n",
       "  </tbody>\n",
       "</table>\n",
       "</div>"
      ],
      "text/plain": [
       "                    StockCode  Quantity\n",
       "InvoiceDate                            \n",
       "2009-12-01 07:45:00     21232        24\n",
       "2009-12-01 10:49:00     21232        48\n",
       "2009-12-01 12:13:00     21232         3\n",
       "2009-12-01 12:14:00     21232        20\n",
       "2009-12-01 13:31:00     21232         4\n",
       "2009-12-01 13:37:00     21232        12\n",
       "2009-12-01 13:43:00     21232        24\n",
       "2009-12-01 14:19:00     21232        12\n",
       "2009-12-01 15:26:00     21232        12\n",
       "2009-12-01 16:18:00     21232        12"
      ]
     },
     "execution_count": 40,
     "metadata": {},
     "output_type": "execute_result"
    }
   ],
   "source": [
    "df_time_series[df_time_series.StockCode==21232]['2009-12-01']"
   ]
  },
  {
   "cell_type": "markdown",
   "metadata": {},
   "source": [
    "You can see multiple orders for each day. You want to create a forecast that predicts demand at a daily level.\n",
    "\n",
    "You must *downsample* the data from the individual orders into a daily total.\n",
    "\n",
    "The orders for each day can be summed, because the total demand for the day is the value that you will forecast.\n",
    "\n",
    "pandas provides the `resample` function for this purpose. `sum` will sum the **Quantity** column. You will also reset the index based on the **InvoiceDate** value. However, this time, it will be a date without the time portion.\n",
    "\n",
    "**Note:** It might take up to 1 minute for this process to complete."
   ]
  },
  {
   "cell_type": "code",
   "execution_count": 41,
   "metadata": {},
   "outputs": [],
   "source": [
    "df_time_series = df_time_series.groupby('StockCode').resample('D').sum().reset_index()"
   ]
  },
  {
   "cell_type": "code",
   "execution_count": 42,
   "metadata": {},
   "outputs": [
    {
     "data": {
      "text/html": [
       "<div>\n",
       "<style scoped>\n",
       "    .dataframe tbody tr th:only-of-type {\n",
       "        vertical-align: middle;\n",
       "    }\n",
       "\n",
       "    .dataframe tbody tr th {\n",
       "        vertical-align: top;\n",
       "    }\n",
       "\n",
       "    .dataframe thead th {\n",
       "        text-align: right;\n",
       "    }\n",
       "</style>\n",
       "<table border=\"1\" class=\"dataframe\">\n",
       "  <thead>\n",
       "    <tr style=\"text-align: right;\">\n",
       "      <th></th>\n",
       "      <th>StockCode</th>\n",
       "      <th>Quantity</th>\n",
       "    </tr>\n",
       "    <tr>\n",
       "      <th>InvoiceDate</th>\n",
       "      <th></th>\n",
       "      <th></th>\n",
       "    </tr>\n",
       "  </thead>\n",
       "  <tbody>\n",
       "    <tr>\n",
       "      <th>2009-12-01</th>\n",
       "      <td>10002</td>\n",
       "      <td>12</td>\n",
       "    </tr>\n",
       "    <tr>\n",
       "      <th>2009-12-02</th>\n",
       "      <td>10002</td>\n",
       "      <td>0</td>\n",
       "    </tr>\n",
       "    <tr>\n",
       "      <th>2009-12-03</th>\n",
       "      <td>10002</td>\n",
       "      <td>7</td>\n",
       "    </tr>\n",
       "    <tr>\n",
       "      <th>2009-12-04</th>\n",
       "      <td>10002</td>\n",
       "      <td>25</td>\n",
       "    </tr>\n",
       "    <tr>\n",
       "      <th>2009-12-05</th>\n",
       "      <td>10002</td>\n",
       "      <td>0</td>\n",
       "    </tr>\n",
       "  </tbody>\n",
       "</table>\n",
       "</div>"
      ],
      "text/plain": [
       "            StockCode  Quantity\n",
       "InvoiceDate                    \n",
       "2009-12-01      10002        12\n",
       "2009-12-02      10002         0\n",
       "2009-12-03      10002         7\n",
       "2009-12-04      10002        25\n",
       "2009-12-05      10002         0"
      ]
     },
     "execution_count": 42,
     "metadata": {},
     "output_type": "execute_result"
    }
   ],
   "source": [
    "df_time_series['InvoiceDate'] = pd.to_datetime(df_time_series.InvoiceDate)\n",
    "df_time_series = df_time_series.set_index('InvoiceDate')\n",
    "df_time_series.head()"
   ]
  },
  {
   "cell_type": "code",
   "execution_count": 43,
   "metadata": {},
   "outputs": [],
   "source": [
    "df_time_series = df_time_series.groupby('StockCode').resample('D').sum().reset_index().set_index(['InvoiceDate'])"
   ]
  },
  {
   "cell_type": "markdown",
   "metadata": {},
   "source": [
    "Examine the new DataFrame."
   ]
  },
  {
   "cell_type": "code",
   "execution_count": 44,
   "metadata": {},
   "outputs": [
    {
     "data": {
      "text/html": [
       "<div>\n",
       "<style scoped>\n",
       "    .dataframe tbody tr th:only-of-type {\n",
       "        vertical-align: middle;\n",
       "    }\n",
       "\n",
       "    .dataframe tbody tr th {\n",
       "        vertical-align: top;\n",
       "    }\n",
       "\n",
       "    .dataframe thead th {\n",
       "        text-align: right;\n",
       "    }\n",
       "</style>\n",
       "<table border=\"1\" class=\"dataframe\">\n",
       "  <thead>\n",
       "    <tr style=\"text-align: right;\">\n",
       "      <th></th>\n",
       "      <th>StockCode</th>\n",
       "      <th>Quantity</th>\n",
       "    </tr>\n",
       "    <tr>\n",
       "      <th>InvoiceDate</th>\n",
       "      <th></th>\n",
       "      <th></th>\n",
       "    </tr>\n",
       "  </thead>\n",
       "  <tbody>\n",
       "    <tr>\n",
       "      <th>2009-12-01</th>\n",
       "      <td>21232</td>\n",
       "      <td>171</td>\n",
       "    </tr>\n",
       "    <tr>\n",
       "      <th>2009-12-02</th>\n",
       "      <td>21232</td>\n",
       "      <td>164</td>\n",
       "    </tr>\n",
       "    <tr>\n",
       "      <th>2009-12-03</th>\n",
       "      <td>21232</td>\n",
       "      <td>192</td>\n",
       "    </tr>\n",
       "    <tr>\n",
       "      <th>2009-12-04</th>\n",
       "      <td>21232</td>\n",
       "      <td>264</td>\n",
       "    </tr>\n",
       "    <tr>\n",
       "      <th>2009-12-05</th>\n",
       "      <td>21232</td>\n",
       "      <td>36</td>\n",
       "    </tr>\n",
       "    <tr>\n",
       "      <th>...</th>\n",
       "      <td>...</td>\n",
       "      <td>...</td>\n",
       "    </tr>\n",
       "    <tr>\n",
       "      <th>2010-12-04</th>\n",
       "      <td>21232</td>\n",
       "      <td>0</td>\n",
       "    </tr>\n",
       "    <tr>\n",
       "      <th>2010-12-05</th>\n",
       "      <td>21232</td>\n",
       "      <td>4</td>\n",
       "    </tr>\n",
       "    <tr>\n",
       "      <th>2010-12-06</th>\n",
       "      <td>21232</td>\n",
       "      <td>12</td>\n",
       "    </tr>\n",
       "    <tr>\n",
       "      <th>2010-12-07</th>\n",
       "      <td>21232</td>\n",
       "      <td>28</td>\n",
       "    </tr>\n",
       "    <tr>\n",
       "      <th>2010-12-08</th>\n",
       "      <td>21232</td>\n",
       "      <td>61</td>\n",
       "    </tr>\n",
       "  </tbody>\n",
       "</table>\n",
       "<p>373 rows × 2 columns</p>\n",
       "</div>"
      ],
      "text/plain": [
       "            StockCode  Quantity\n",
       "InvoiceDate                    \n",
       "2009-12-01      21232       171\n",
       "2009-12-02      21232       164\n",
       "2009-12-03      21232       192\n",
       "2009-12-04      21232       264\n",
       "2009-12-05      21232        36\n",
       "...               ...       ...\n",
       "2010-12-04      21232         0\n",
       "2010-12-05      21232         4\n",
       "2010-12-06      21232        12\n",
       "2010-12-07      21232        28\n",
       "2010-12-08      21232        61\n",
       "\n",
       "[373 rows x 2 columns]"
      ]
     },
     "execution_count": 44,
     "metadata": {},
     "output_type": "execute_result"
    }
   ],
   "source": [
    "df_time_series[df_time_series.StockCode==21232]\n"
   ]
  },
  {
   "cell_type": "markdown",
   "metadata": {},
   "source": [
    "The order now has a single entry for each day."
   ]
  },
  {
   "cell_type": "markdown",
   "metadata": {},
   "source": [
    "Repeat this process with the related time series data."
   ]
  },
  {
   "cell_type": "code",
   "execution_count": 45,
   "metadata": {},
   "outputs": [
    {
     "data": {
      "text/html": [
       "<div>\n",
       "<style scoped>\n",
       "    .dataframe tbody tr th:only-of-type {\n",
       "        vertical-align: middle;\n",
       "    }\n",
       "\n",
       "    .dataframe tbody tr th {\n",
       "        vertical-align: top;\n",
       "    }\n",
       "\n",
       "    .dataframe thead th {\n",
       "        text-align: right;\n",
       "    }\n",
       "</style>\n",
       "<table border=\"1\" class=\"dataframe\">\n",
       "  <thead>\n",
       "    <tr style=\"text-align: right;\">\n",
       "      <th></th>\n",
       "      <th>StockCode</th>\n",
       "      <th>Price</th>\n",
       "    </tr>\n",
       "    <tr>\n",
       "      <th>InvoiceDate</th>\n",
       "      <th></th>\n",
       "      <th></th>\n",
       "    </tr>\n",
       "  </thead>\n",
       "  <tbody>\n",
       "    <tr>\n",
       "      <th>2009-12-01 07:45:00</th>\n",
       "      <td>85048</td>\n",
       "      <td>6.95</td>\n",
       "    </tr>\n",
       "    <tr>\n",
       "      <th>2009-12-01 07:45:00</th>\n",
       "      <td>79323P</td>\n",
       "      <td>6.75</td>\n",
       "    </tr>\n",
       "    <tr>\n",
       "      <th>2009-12-01 07:45:00</th>\n",
       "      <td>79323W</td>\n",
       "      <td>6.75</td>\n",
       "    </tr>\n",
       "    <tr>\n",
       "      <th>2009-12-01 07:45:00</th>\n",
       "      <td>22041</td>\n",
       "      <td>2.10</td>\n",
       "    </tr>\n",
       "    <tr>\n",
       "      <th>2009-12-01 07:45:00</th>\n",
       "      <td>21232</td>\n",
       "      <td>1.25</td>\n",
       "    </tr>\n",
       "  </tbody>\n",
       "</table>\n",
       "</div>"
      ],
      "text/plain": [
       "                    StockCode  Price\n",
       "InvoiceDate                         \n",
       "2009-12-01 07:45:00     85048   6.95\n",
       "2009-12-01 07:45:00    79323P   6.75\n",
       "2009-12-01 07:45:00    79323W   6.75\n",
       "2009-12-01 07:45:00     22041   2.10\n",
       "2009-12-01 07:45:00     21232   1.25"
      ]
     },
     "execution_count": 45,
     "metadata": {},
     "output_type": "execute_result"
    }
   ],
   "source": [
    "df_related_time_series.head()"
   ]
  },
  {
   "cell_type": "code",
   "execution_count": 46,
   "metadata": {},
   "outputs": [],
   "source": [
    "df_related_time_series2 = df_related_time_series.groupby('StockCode').resample('D').mean().reset_index().set_index(['InvoiceDate','StockCode'])"
   ]
  },
  {
   "cell_type": "code",
   "execution_count": 47,
   "metadata": {},
   "outputs": [
    {
     "data": {
      "text/html": [
       "<div>\n",
       "<style scoped>\n",
       "    .dataframe tbody tr th:only-of-type {\n",
       "        vertical-align: middle;\n",
       "    }\n",
       "\n",
       "    .dataframe tbody tr th {\n",
       "        vertical-align: top;\n",
       "    }\n",
       "\n",
       "    .dataframe thead th {\n",
       "        text-align: right;\n",
       "    }\n",
       "</style>\n",
       "<table border=\"1\" class=\"dataframe\">\n",
       "  <thead>\n",
       "    <tr style=\"text-align: right;\">\n",
       "      <th></th>\n",
       "      <th></th>\n",
       "      <th>Price</th>\n",
       "    </tr>\n",
       "    <tr>\n",
       "      <th>InvoiceDate</th>\n",
       "      <th>StockCode</th>\n",
       "      <th></th>\n",
       "    </tr>\n",
       "  </thead>\n",
       "  <tbody>\n",
       "    <tr>\n",
       "      <th>2009-12-01</th>\n",
       "      <th>10002</th>\n",
       "      <td>0.85</td>\n",
       "    </tr>\n",
       "    <tr>\n",
       "      <th>2009-12-02</th>\n",
       "      <th>10002</th>\n",
       "      <td>NaN</td>\n",
       "    </tr>\n",
       "    <tr>\n",
       "      <th>2009-12-03</th>\n",
       "      <th>10002</th>\n",
       "      <td>0.85</td>\n",
       "    </tr>\n",
       "    <tr>\n",
       "      <th>2009-12-04</th>\n",
       "      <th>10002</th>\n",
       "      <td>0.85</td>\n",
       "    </tr>\n",
       "    <tr>\n",
       "      <th>2009-12-05</th>\n",
       "      <th>10002</th>\n",
       "      <td>NaN</td>\n",
       "    </tr>\n",
       "    <tr>\n",
       "      <th>2009-12-06</th>\n",
       "      <th>10002</th>\n",
       "      <td>0.85</td>\n",
       "    </tr>\n",
       "    <tr>\n",
       "      <th>2009-12-07</th>\n",
       "      <th>10002</th>\n",
       "      <td>0.85</td>\n",
       "    </tr>\n",
       "    <tr>\n",
       "      <th>2009-12-08</th>\n",
       "      <th>10002</th>\n",
       "      <td>NaN</td>\n",
       "    </tr>\n",
       "    <tr>\n",
       "      <th>2009-12-09</th>\n",
       "      <th>10002</th>\n",
       "      <td>NaN</td>\n",
       "    </tr>\n",
       "    <tr>\n",
       "      <th>2009-12-10</th>\n",
       "      <th>10002</th>\n",
       "      <td>NaN</td>\n",
       "    </tr>\n",
       "    <tr>\n",
       "      <th>2009-12-11</th>\n",
       "      <th>10002</th>\n",
       "      <td>0.85</td>\n",
       "    </tr>\n",
       "    <tr>\n",
       "      <th>2009-12-12</th>\n",
       "      <th>10002</th>\n",
       "      <td>NaN</td>\n",
       "    </tr>\n",
       "    <tr>\n",
       "      <th>2009-12-13</th>\n",
       "      <th>10002</th>\n",
       "      <td>NaN</td>\n",
       "    </tr>\n",
       "    <tr>\n",
       "      <th>2009-12-14</th>\n",
       "      <th>10002</th>\n",
       "      <td>0.85</td>\n",
       "    </tr>\n",
       "    <tr>\n",
       "      <th>2009-12-15</th>\n",
       "      <th>10002</th>\n",
       "      <td>NaN</td>\n",
       "    </tr>\n",
       "    <tr>\n",
       "      <th>2009-12-16</th>\n",
       "      <th>10002</th>\n",
       "      <td>NaN</td>\n",
       "    </tr>\n",
       "    <tr>\n",
       "      <th>2009-12-17</th>\n",
       "      <th>10002</th>\n",
       "      <td>NaN</td>\n",
       "    </tr>\n",
       "    <tr>\n",
       "      <th>2009-12-18</th>\n",
       "      <th>10002</th>\n",
       "      <td>NaN</td>\n",
       "    </tr>\n",
       "    <tr>\n",
       "      <th>2009-12-19</th>\n",
       "      <th>10002</th>\n",
       "      <td>NaN</td>\n",
       "    </tr>\n",
       "    <tr>\n",
       "      <th>2009-12-20</th>\n",
       "      <th>10002</th>\n",
       "      <td>NaN</td>\n",
       "    </tr>\n",
       "  </tbody>\n",
       "</table>\n",
       "</div>"
      ],
      "text/plain": [
       "                       Price\n",
       "InvoiceDate StockCode       \n",
       "2009-12-01  10002       0.85\n",
       "2009-12-02  10002        NaN\n",
       "2009-12-03  10002       0.85\n",
       "2009-12-04  10002       0.85\n",
       "2009-12-05  10002        NaN\n",
       "2009-12-06  10002       0.85\n",
       "2009-12-07  10002       0.85\n",
       "2009-12-08  10002        NaN\n",
       "2009-12-09  10002        NaN\n",
       "2009-12-10  10002        NaN\n",
       "2009-12-11  10002       0.85\n",
       "2009-12-12  10002        NaN\n",
       "2009-12-13  10002        NaN\n",
       "2009-12-14  10002       0.85\n",
       "2009-12-15  10002        NaN\n",
       "2009-12-16  10002        NaN\n",
       "2009-12-17  10002        NaN\n",
       "2009-12-18  10002        NaN\n",
       "2009-12-19  10002        NaN\n",
       "2009-12-20  10002        NaN"
      ]
     },
     "execution_count": 47,
     "metadata": {},
     "output_type": "execute_result"
    }
   ],
   "source": [
    "df_related_time_series2.head(20)"
   ]
  },
  {
   "cell_type": "markdown",
   "metadata": {},
   "source": [
    "**Question:** Why are some of the previous values showing as *NaN*?"
   ]
  },
  {
   "cell_type": "markdown",
   "metadata": {},
   "source": [
    "**Answer:** That product had no orders for those days, and thus it has no price. Should you fill these NaN values with a numerical value?"
   ]
  },
  {
   "cell_type": "code",
   "execution_count": 48,
   "metadata": {},
   "outputs": [
    {
     "data": {
      "text/html": [
       "<div>\n",
       "<style scoped>\n",
       "    .dataframe tbody tr th:only-of-type {\n",
       "        vertical-align: middle;\n",
       "    }\n",
       "\n",
       "    .dataframe tbody tr th {\n",
       "        vertical-align: top;\n",
       "    }\n",
       "\n",
       "    .dataframe thead th {\n",
       "        text-align: right;\n",
       "    }\n",
       "</style>\n",
       "<table border=\"1\" class=\"dataframe\">\n",
       "  <thead>\n",
       "    <tr style=\"text-align: right;\">\n",
       "      <th></th>\n",
       "      <th>StockCode</th>\n",
       "      <th>Quantity</th>\n",
       "      <th>Price</th>\n",
       "    </tr>\n",
       "    <tr>\n",
       "      <th>InvoiceDate</th>\n",
       "      <th></th>\n",
       "      <th></th>\n",
       "      <th></th>\n",
       "    </tr>\n",
       "  </thead>\n",
       "  <tbody>\n",
       "    <tr>\n",
       "      <th>2009-12-01 09:08:00</th>\n",
       "      <td>10002</td>\n",
       "      <td>12</td>\n",
       "      <td>0.85</td>\n",
       "    </tr>\n",
       "    <tr>\n",
       "      <th>2009-12-03 13:49:00</th>\n",
       "      <td>10002</td>\n",
       "      <td>1</td>\n",
       "      <td>0.85</td>\n",
       "    </tr>\n",
       "    <tr>\n",
       "      <th>2009-12-03 13:49:00</th>\n",
       "      <td>10002</td>\n",
       "      <td>1</td>\n",
       "      <td>0.85</td>\n",
       "    </tr>\n",
       "    <tr>\n",
       "      <th>2009-12-03 19:13:00</th>\n",
       "      <td>10002</td>\n",
       "      <td>1</td>\n",
       "      <td>0.85</td>\n",
       "    </tr>\n",
       "    <tr>\n",
       "      <th>2009-12-03 20:03:00</th>\n",
       "      <td>10002</td>\n",
       "      <td>4</td>\n",
       "      <td>0.85</td>\n",
       "    </tr>\n",
       "    <tr>\n",
       "      <th>2009-12-04 08:46:00</th>\n",
       "      <td>10002</td>\n",
       "      <td>12</td>\n",
       "      <td>0.85</td>\n",
       "    </tr>\n",
       "    <tr>\n",
       "      <th>2009-12-04 12:20:00</th>\n",
       "      <td>10002</td>\n",
       "      <td>12</td>\n",
       "      <td>0.85</td>\n",
       "    </tr>\n",
       "    <tr>\n",
       "      <th>2009-12-04 17:31:00</th>\n",
       "      <td>10002</td>\n",
       "      <td>1</td>\n",
       "      <td>0.85</td>\n",
       "    </tr>\n",
       "    <tr>\n",
       "      <th>2009-12-06 15:24:00</th>\n",
       "      <td>10002</td>\n",
       "      <td>1</td>\n",
       "      <td>0.85</td>\n",
       "    </tr>\n",
       "    <tr>\n",
       "      <th>2009-12-07 16:40:00</th>\n",
       "      <td>10002</td>\n",
       "      <td>2</td>\n",
       "      <td>0.85</td>\n",
       "    </tr>\n",
       "    <tr>\n",
       "      <th>2009-12-11 12:21:00</th>\n",
       "      <td>10002</td>\n",
       "      <td>9</td>\n",
       "      <td>0.85</td>\n",
       "    </tr>\n",
       "    <tr>\n",
       "      <th>2009-12-14 12:02:00</th>\n",
       "      <td>10002</td>\n",
       "      <td>12</td>\n",
       "      <td>0.85</td>\n",
       "    </tr>\n",
       "    <tr>\n",
       "      <th>2009-12-14 14:12:00</th>\n",
       "      <td>10002</td>\n",
       "      <td>24</td>\n",
       "      <td>0.85</td>\n",
       "    </tr>\n",
       "    <tr>\n",
       "      <th>2009-12-21 13:29:00</th>\n",
       "      <td>10002</td>\n",
       "      <td>12</td>\n",
       "      <td>0.85</td>\n",
       "    </tr>\n",
       "    <tr>\n",
       "      <th>2009-12-23 12:07:00</th>\n",
       "      <td>10002</td>\n",
       "      <td>1</td>\n",
       "      <td>0.85</td>\n",
       "    </tr>\n",
       "  </tbody>\n",
       "</table>\n",
       "</div>"
      ],
      "text/plain": [
       "                    StockCode  Quantity  Price\n",
       "InvoiceDate                                   \n",
       "2009-12-01 09:08:00     10002        12   0.85\n",
       "2009-12-03 13:49:00     10002         1   0.85\n",
       "2009-12-03 13:49:00     10002         1   0.85\n",
       "2009-12-03 19:13:00     10002         1   0.85\n",
       "2009-12-03 20:03:00     10002         4   0.85\n",
       "2009-12-04 08:46:00     10002        12   0.85\n",
       "2009-12-04 12:20:00     10002        12   0.85\n",
       "2009-12-04 17:31:00     10002         1   0.85\n",
       "2009-12-06 15:24:00     10002         1   0.85\n",
       "2009-12-07 16:40:00     10002         2   0.85\n",
       "2009-12-11 12:21:00     10002         9   0.85\n",
       "2009-12-14 12:02:00     10002        12   0.85\n",
       "2009-12-14 14:12:00     10002        24   0.85\n",
       "2009-12-21 13:29:00     10002        12   0.85\n",
       "2009-12-23 12:07:00     10002         1   0.85"
      ]
     },
     "execution_count": 48,
     "metadata": {},
     "output_type": "execute_result"
    }
   ],
   "source": [
    "retail[retail.StockCode == 10002]['2009-12']"
   ]
  },
  {
   "cell_type": "markdown",
   "metadata": {},
   "source": [
    "You can use `pad` to forward-fill the price. The previous value will be used to fill the gap for each missing value. "
   ]
  },
  {
   "cell_type": "code",
   "execution_count": 49,
   "metadata": {},
   "outputs": [],
   "source": [
    "df_related_time_series3 = df_related_time_series2.groupby('StockCode').pad()"
   ]
  },
  {
   "cell_type": "code",
   "execution_count": 50,
   "metadata": {},
   "outputs": [
    {
     "data": {
      "text/html": [
       "<div>\n",
       "<style scoped>\n",
       "    .dataframe tbody tr th:only-of-type {\n",
       "        vertical-align: middle;\n",
       "    }\n",
       "\n",
       "    .dataframe tbody tr th {\n",
       "        vertical-align: top;\n",
       "    }\n",
       "\n",
       "    .dataframe thead th {\n",
       "        text-align: right;\n",
       "    }\n",
       "</style>\n",
       "<table border=\"1\" class=\"dataframe\">\n",
       "  <thead>\n",
       "    <tr style=\"text-align: right;\">\n",
       "      <th></th>\n",
       "      <th></th>\n",
       "      <th>Price</th>\n",
       "    </tr>\n",
       "    <tr>\n",
       "      <th>InvoiceDate</th>\n",
       "      <th>StockCode</th>\n",
       "      <th></th>\n",
       "    </tr>\n",
       "  </thead>\n",
       "  <tbody>\n",
       "    <tr>\n",
       "      <th>2009-12-01</th>\n",
       "      <th>10002</th>\n",
       "      <td>0.85</td>\n",
       "    </tr>\n",
       "    <tr>\n",
       "      <th>2009-12-02</th>\n",
       "      <th>10002</th>\n",
       "      <td>0.85</td>\n",
       "    </tr>\n",
       "    <tr>\n",
       "      <th>2009-12-03</th>\n",
       "      <th>10002</th>\n",
       "      <td>0.85</td>\n",
       "    </tr>\n",
       "    <tr>\n",
       "      <th>2009-12-04</th>\n",
       "      <th>10002</th>\n",
       "      <td>0.85</td>\n",
       "    </tr>\n",
       "    <tr>\n",
       "      <th>2009-12-05</th>\n",
       "      <th>10002</th>\n",
       "      <td>0.85</td>\n",
       "    </tr>\n",
       "    <tr>\n",
       "      <th>2009-12-06</th>\n",
       "      <th>10002</th>\n",
       "      <td>0.85</td>\n",
       "    </tr>\n",
       "    <tr>\n",
       "      <th>2009-12-07</th>\n",
       "      <th>10002</th>\n",
       "      <td>0.85</td>\n",
       "    </tr>\n",
       "    <tr>\n",
       "      <th>2009-12-08</th>\n",
       "      <th>10002</th>\n",
       "      <td>0.85</td>\n",
       "    </tr>\n",
       "    <tr>\n",
       "      <th>2009-12-09</th>\n",
       "      <th>10002</th>\n",
       "      <td>0.85</td>\n",
       "    </tr>\n",
       "    <tr>\n",
       "      <th>2009-12-10</th>\n",
       "      <th>10002</th>\n",
       "      <td>0.85</td>\n",
       "    </tr>\n",
       "    <tr>\n",
       "      <th>2009-12-11</th>\n",
       "      <th>10002</th>\n",
       "      <td>0.85</td>\n",
       "    </tr>\n",
       "    <tr>\n",
       "      <th>2009-12-12</th>\n",
       "      <th>10002</th>\n",
       "      <td>0.85</td>\n",
       "    </tr>\n",
       "    <tr>\n",
       "      <th>2009-12-13</th>\n",
       "      <th>10002</th>\n",
       "      <td>0.85</td>\n",
       "    </tr>\n",
       "    <tr>\n",
       "      <th>2009-12-14</th>\n",
       "      <th>10002</th>\n",
       "      <td>0.85</td>\n",
       "    </tr>\n",
       "    <tr>\n",
       "      <th>2009-12-15</th>\n",
       "      <th>10002</th>\n",
       "      <td>0.85</td>\n",
       "    </tr>\n",
       "    <tr>\n",
       "      <th>2009-12-16</th>\n",
       "      <th>10002</th>\n",
       "      <td>0.85</td>\n",
       "    </tr>\n",
       "    <tr>\n",
       "      <th>2009-12-17</th>\n",
       "      <th>10002</th>\n",
       "      <td>0.85</td>\n",
       "    </tr>\n",
       "    <tr>\n",
       "      <th>2009-12-18</th>\n",
       "      <th>10002</th>\n",
       "      <td>0.85</td>\n",
       "    </tr>\n",
       "    <tr>\n",
       "      <th>2009-12-19</th>\n",
       "      <th>10002</th>\n",
       "      <td>0.85</td>\n",
       "    </tr>\n",
       "    <tr>\n",
       "      <th>2009-12-20</th>\n",
       "      <th>10002</th>\n",
       "      <td>0.85</td>\n",
       "    </tr>\n",
       "  </tbody>\n",
       "</table>\n",
       "</div>"
      ],
      "text/plain": [
       "                       Price\n",
       "InvoiceDate StockCode       \n",
       "2009-12-01  10002       0.85\n",
       "2009-12-02  10002       0.85\n",
       "2009-12-03  10002       0.85\n",
       "2009-12-04  10002       0.85\n",
       "2009-12-05  10002       0.85\n",
       "2009-12-06  10002       0.85\n",
       "2009-12-07  10002       0.85\n",
       "2009-12-08  10002       0.85\n",
       "2009-12-09  10002       0.85\n",
       "2009-12-10  10002       0.85\n",
       "2009-12-11  10002       0.85\n",
       "2009-12-12  10002       0.85\n",
       "2009-12-13  10002       0.85\n",
       "2009-12-14  10002       0.85\n",
       "2009-12-15  10002       0.85\n",
       "2009-12-16  10002       0.85\n",
       "2009-12-17  10002       0.85\n",
       "2009-12-18  10002       0.85\n",
       "2009-12-19  10002       0.85\n",
       "2009-12-20  10002       0.85"
      ]
     },
     "execution_count": 50,
     "metadata": {},
     "output_type": "execute_result"
    }
   ],
   "source": [
    "df_related_time_series3.head(20)"
   ]
  },
  {
   "cell_type": "markdown",
   "metadata": {},
   "source": [
    "## Task 4: Reviewing the creation of the forecast\n",
    "\n",
    "The following cells are Markdown. They demonstrate the API calls that are needed to create a forecast based on the data that you have been working with. Creating a forecast with Amazon Forecast involves three stages:\n",
    "\n",
    "1. Creating the datasets and importing the data. This process typically takes 5–10 minutes.\n",
    "2. Creating the predictor. This process trains a model by using the data that you provided. It takes 30–60 minutes to complete.\n",
    "3. Creating the forecast. This process generates a forecast for a particular item by using the predictor. It also takes 30–60 minutes to complete.\n",
    "\n",
    "To save time, when this lab was started, the `forecast-autorun.ipynb` was also ran in the background. The notebook will be updated with the results after running completes. It takes about 65 minutes to run, but it might take a little longer. By the time you review this cell, the forecast creation should in process. While it's finishing, you will review the code.\n",
    "\n",
    "**Note:** Feel free to review the actual `forecast-autorun.ipynb` notebook if you want some more detail. However, make sure that you don't run any cells!"
   ]
  },
  {
   "cell_type": "markdown",
   "metadata": {},
   "source": [
    "### Creating the datasets and importing the data\n",
    "\n",
    "The first step is to create a Forecast Dataset Group:\n",
    "\n",
    "```python\n",
    "session = boto3.Session()\n",
    "forecast = session.client(service_name='forecast') \n",
    "create_dataset_group_response = forecast.create_dataset_group(DatasetGroupName=dataset_group_name, Domain=\"RETAIL\")\n",
    "dataset_group_arn = create_dataset_group_response['DatasetGroupArn']\n",
    "```\n",
    "    \n",
    "The `create_dataset` function requires a few parameters:\n",
    "\n",
    "- **DOMAIN** – This parameter specifies the domain, such as *retail*, that the forecast should use.\n",
    "- **DatasetType** – For the time series data, this parameter will be set to *TARGET_TIME_SERIES*.\n",
    "- **DatasetName** – This parameter specifies the name of the dataset.\n",
    "- **DataFrequency** – This parameter specifices the frequency. For the daily dataset, it will be *D*.\n",
    "- **Schema** – This parameter specifies the schema of the dataset.\n",
    "\n",
    "The dataset schema for the time series data is:\n",
    "\n",
    "```python\n",
    "schema ={\n",
    "   \"Attributes\":[\n",
    "      {\n",
    "         \"AttributeName\":\"timestamp\",\n",
    "         \"AttributeType\":\"timestamp\"\n",
    "      },\n",
    "      {\n",
    "         \"AttributeName\":\"item_id\",\n",
    "         \"AttributeType\":\"string\"\n",
    "      },\n",
    "      {\n",
    "         \"AttributeName\":\"demand\",\n",
    "         \"AttributeType\":\"float\"\n",
    "      }\n",
    "   ]\n",
    "}\n",
    "```\n",
    "\n",
    "\n",
    "The code to create the dataset is:\n",
    "\n",
    "```python\n",
    "time_series_response=forecast.create_dataset(\n",
    "                    Domain=\"RETAIL\",\n",
    "                    DatasetType='TARGET_TIME_SERIES',\n",
    "                    DatasetName='retail_time_series_data',\n",
    "                    DataFrequency='D', \n",
    "                    Schema = schema\n",
    ")\n",
    "dataset_arn = time_series_response['DatasetArn']\n",
    "```\n",
    "    \n",
    "Now that the dataset is defined, a job is needed to import the data:\n",
    "\n",
    "```python\n",
    "ds_import_job_response=forecast.create_dataset_import_job(DatasetImportJobName='retail_import_job',\n",
    "                                                      DatasetArn=dataset_arn,\n",
    "                                                      DataSource= data_source,\n",
    "                                                      TimestampFormat=timestamp_format\n",
    "                                                     )\n",
    "```\n",
    "\n",
    "Note that the *data_source* is a path to the data that's stored in Amazon Simple Storage Service (Amazon S3).\n",
    "\n",
    "The final step is to add the dataset to the dataset group:\n",
    "\n",
    "```python\n",
    "forecast.update_dataset_group(DatasetGroupArn=dataset_group_arn, DatasetArns=[dataset_arn])\n",
    "```\n",
    "    \n",
    "\n",
    "The process of adding the related data or metadata is done in the same way: by  changing the names, schema, and dataset type. Although you have prepared this data, you won't use it in the predictor because the model wasn't impacted by the additional data."
   ]
  },
  {
   "cell_type": "markdown",
   "metadata": {},
   "source": [
    "### Creating the predictor\n",
    "\n",
    "The next step is to create the predictor. The `create_predictor` command needs a few parameters:\n",
    "\n",
    "- **PredictorName** – This parameter specifies the name that you want to give the predictor.\n",
    "\n",
    "    ```python\n",
    "    predictor_name= prefix+'_deeparp_algo'\n",
    "    ```\n",
    "\n",
    "\n",
    "- **AlgorithmArn** – This parameter is the path to the algorithm that you want to use. In this example, you will use DeepAR+.\n",
    "\n",
    "    ```python\n",
    "    algorithm_arn = 'arn:aws:forecast:::algorithm/Deep_AR_Plus\n",
    "    ```\n",
    "\n",
    "\n",
    "- **EvaluationParameters** – This parameter enables you to specify the number and size of the back test windows. Recall from the module that this parameter controls the size and number of testing windows that are created from the data.\n",
    "\n",
    "    ```python\n",
    "    evaluation_parameters= {\"NumberOfBacktestWindows\": 1, \"BackTestWindowOffset\": 30}\n",
    "    ```\n",
    "\n",
    "\n",
    "- **ForecastHorizon** – How many units to forecast (in this case, the units are days).\n",
    "\n",
    "    ```python\n",
    "    forecast_horizon = 30\n",
    "    ```\n",
    "\n",
    "\n",
    "- **InputDataConfig** – This parameter specifies the data, along with optional vacation days.\n",
    "\n",
    "    ```python\n",
    "    input_data_config = {\"DatasetGroupArn\": dataset_group_arn, \"SupplementaryFeatures\": [ {\"Name\": \"holiday\",\"Value\": \"UK\"} ]}\n",
    "    ```\n",
    "\n",
    "\n",
    "- **FeaturizationConfig** – This parameter sets the frequency, but it can also be used to specify filling methods for data.\n",
    "\n",
    "    ```python\n",
    "    featurization_config= {\"ForecastFrequency\": dataset_frequency }\n",
    "    ```\n",
    "\n",
    "The code to create the predictor is:\n",
    "\n",
    "```python\n",
    "create_predictor_response=forecast.create_predictor(PredictorName = predictor_name,\n",
    "      AlgorithmArn = algorithm_arn,\n",
    "      ForecastHorizon = forecast_horizon,\n",
    "      PerformAutoML = False,\n",
    "      PerformHPO = False,\n",
    "      EvaluationParameters= evaluation_parameters, \n",
    "      InputDataConfig = input_data_config,\n",
    "      FeaturizationConfig = featurization_config\n",
    "     )\n",
    "```\n",
    "                                                 \n",
    "After the predictor is created, you can create a forecast."
   ]
  },
  {
   "cell_type": "markdown",
   "metadata": {},
   "source": [
    "### Creating the forecast\n",
    "\n",
    "To create the forecast, use the `create_forecast` method:\n",
    "\n",
    "```python\n",
    "predictor_arn = create_predictor_response['PredictorArn']\n",
    "\n",
    "create_forecast_response=forecast.create_forecast(ForecastName=forecast_Name,\n",
    "                                                  PredictorArn=predictor_arn)\n",
    "\n",
    "```\n",
    "\n",
    "After the forecast is generated, the results can be queried by using the `query_forecast` method:\n",
    "\n",
    "```python\n",
    "forecast_response = forecast_query.query_forecast(\n",
    "    ForecastArn=forecast_arn,\n",
    "    Filters={\"item_id\":\"22423\"}\n",
    ")\n",
    "```\n"
   ]
  },
  {
   "cell_type": "markdown",
   "metadata": {},
   "source": [
    "## Task 5: Waiting for the forecast creation to complete\n",
    "\n",
    "The forecast should now be created. You can investigate to see whether the forecast creation is complete.\n",
    "\n",
    "First, create a helper method to show the status."
   ]
  },
  {
   "cell_type": "code",
   "execution_count": 51,
   "metadata": {},
   "outputs": [],
   "source": [
    "import sys\n",
    "\n",
    "class StatusIndicator:\n",
    "    \n",
    "    def __init__(self):\n",
    "        self.previous_status = None\n",
    "        self.need_newline = False\n",
    "        \n",
    "    def update( self, status ):\n",
    "        if self.previous_status != status:\n",
    "            if self.need_newline:\n",
    "                sys.stdout.write(\"\\n\")\n",
    "            sys.stdout.write( status + \" \")\n",
    "            self.need_newline = True\n",
    "            self.previous_status = status\n",
    "        else:\n",
    "            # sys.stdout.write(\".\")\n",
    "            print('.',end='')\n",
    "            self.need_newline = True\n",
    "        sys.stdout.flush()\n",
    "\n",
    "    def end(self):\n",
    "        if self.need_newline:\n",
    "            sys.stdout.write(\"\\n\")"
   ]
  },
  {
   "cell_type": "markdown",
   "metadata": {},
   "source": [
    "Next, create instances of the forecast and the forecast query objects."
   ]
  },
  {
   "cell_type": "code",
   "execution_count": 52,
   "metadata": {},
   "outputs": [],
   "source": [
    "bucket='mlf-lab4-forecastbucket-12sb9sjex9iv'\n",
    "\n",
    "session = boto3.Session() \n",
    "forecast = session.client(service_name='forecast') \n",
    "forecast_query = session.client(service_name='forecastquery')"
   ]
  },
  {
   "cell_type": "markdown",
   "metadata": {},
   "source": [
    "You will read the variables from the store, and check whether the forecast was defined. After the forecast is defined, you will wait until its status becomes active."
   ]
  },
  {
   "cell_type": "code",
   "execution_count": 53,
   "metadata": {},
   "outputs": [
    {
     "name": "stdout",
     "output_type": "stream",
     "text": [
      "Waiting for the predictor arn to be available\n",
      "..........................................................................................................................................................................................................Waiting for the predictor to be available\n",
      "ACTIVE \n",
      "Waiting for forecast to be available\n",
      "CREATE_PENDING .\n",
      "CREATE_IN_PROGRESS .....................................................................\n",
      "ACTIVE \n"
     ]
    }
   ],
   "source": [
    "print('Waiting for the predictor arn to be available')\n",
    "while True:\n",
    "    %store -r\n",
    "    is_local = \"forecast_arn\" in locals()\n",
    "    if is_local: break\n",
    "    print('.',end='')\n",
    "    time.sleep(10)\n",
    "\n",
    "print('Waiting for the predictor to be available')\n",
    "status_indicator_predictor = StatusIndicator()\n",
    "while True:\n",
    "    status = forecast.describe_predictor(PredictorArn=predictor_arn)['Status']\n",
    "    status_indicator_predictor.update(status)\n",
    "    if status in ('ACTIVE', 'CREATE_FAILED'): break\n",
    "    time.sleep(10)\n",
    "\n",
    "status_indicator_predictor.end()\n",
    "    \n",
    "print('Waiting for forecast to be available')\n",
    "status_indicator = StatusIndicator()\n",
    "while True:\n",
    "    status = forecast.describe_forecast(ForecastArn=forecast_arn)['Status']\n",
    "    status_indicator.update(status)\n",
    "    if status in ('ACTIVE', 'CREATE_FAILED'): break\n",
    "    time.sleep(10)\n",
    "\n",
    "status_indicator.end()"
   ]
  },
  {
   "cell_type": "markdown",
   "metadata": {},
   "source": [
    "## Task 6: Using the forecast\n",
    "\n",
    "At this point, there should be a forecast that's ready to be queried.\n",
    "\n",
    "Check that you get data for the following test stock code: *21232*"
   ]
  },
  {
   "cell_type": "code",
   "execution_count": 54,
   "metadata": {},
   "outputs": [
    {
     "name": "stdout",
     "output_type": "stream",
     "text": [
      "\n",
      "{'Forecast': {'Predictions': {'p90': [{'Timestamp': '2010-11-01T00:00:00', 'Value': -7.5065221786}, {'Timestamp': '2010-11-02T00:00:00', 'Value': 34.7498550415}, {'Timestamp': '2010-11-03T00:00:00', 'Value': 41.5090141296}, {'Timestamp': '2010-11-04T00:00:00', 'Value': 47.7142028809}, {'Timestamp': '2010-11-05T00:00:00', 'Value': -12.5096616745}, {'Timestamp': '2010-11-06T00:00:00', 'Value': 3.0610456467}, {'Timestamp': '2010-11-07T00:00:00', 'Value': 32.2038040161}, {'Timestamp': '2010-11-08T00:00:00', 'Value': 69.0687789917}, {'Timestamp': '2010-11-09T00:00:00', 'Value': 132.3822631836}, {'Timestamp': '2010-11-10T00:00:00', 'Value': 164.4649353027}, {'Timestamp': '2010-11-11T00:00:00', 'Value': 161.2160186768}, {'Timestamp': '2010-11-12T00:00:00', 'Value': 90.8257598877}, {'Timestamp': '2010-11-13T00:00:00', 'Value': 38.9117546082}, {'Timestamp': '2010-11-14T00:00:00', 'Value': 73.7878723145}, {'Timestamp': '2010-11-15T00:00:00', 'Value': 93.5307769775}, {'Timestamp': '2010-11-16T00:00:00', 'Value': 141.2474517822}, {'Timestamp': '2010-11-17T00:00:00', 'Value': 131.2737731934}, {'Timestamp': '2010-11-18T00:00:00', 'Value': 115.9075317383}, {'Timestamp': '2010-11-19T00:00:00', 'Value': 66.4336547852}, {'Timestamp': '2010-11-20T00:00:00', 'Value': 29.4721164703}, {'Timestamp': '2010-11-21T00:00:00', 'Value': 81.2667388916}, {'Timestamp': '2010-11-22T00:00:00', 'Value': 83.0256652832}, {'Timestamp': '2010-11-23T00:00:00', 'Value': 122.1019897461}, {'Timestamp': '2010-11-24T00:00:00', 'Value': 104.6154327393}, {'Timestamp': '2010-11-25T00:00:00', 'Value': 66.2911529541}, {'Timestamp': '2010-11-26T00:00:00', 'Value': 37.0283203125}, {'Timestamp': '2010-11-27T00:00:00', 'Value': 27.4108276367}, {'Timestamp': '2010-11-28T00:00:00', 'Value': 50.3027877808}, {'Timestamp': '2010-11-29T00:00:00', 'Value': 62.0302886963}, {'Timestamp': '2010-11-30T00:00:00', 'Value': 56.5740203857}], 'p50': [{'Timestamp': '2010-11-01T00:00:00', 'Value': -8.6056232452}, {'Timestamp': '2010-11-02T00:00:00', 'Value': 32.2054138184}, {'Timestamp': '2010-11-03T00:00:00', 'Value': 39.0319099426}, {'Timestamp': '2010-11-04T00:00:00', 'Value': 43.933807373}, {'Timestamp': '2010-11-05T00:00:00', 'Value': -16.2842826843}, {'Timestamp': '2010-11-06T00:00:00', 'Value': -4.2147512436}, {'Timestamp': '2010-11-07T00:00:00', 'Value': 23.8521690369}, {'Timestamp': '2010-11-08T00:00:00', 'Value': 46.3265037537}, {'Timestamp': '2010-11-09T00:00:00', 'Value': 68.4265975952}, {'Timestamp': '2010-11-10T00:00:00', 'Value': 69.2805175781}, {'Timestamp': '2010-11-11T00:00:00', 'Value': 62.0143013}, {'Timestamp': '2010-11-12T00:00:00', 'Value': 37.7757911682}, {'Timestamp': '2010-11-13T00:00:00', 'Value': 11.8609075546}, {'Timestamp': '2010-11-14T00:00:00', 'Value': 57.7246894836}, {'Timestamp': '2010-11-15T00:00:00', 'Value': 72.565071106}, {'Timestamp': '2010-11-16T00:00:00', 'Value': 92.650177002}, {'Timestamp': '2010-11-17T00:00:00', 'Value': 65.4985351562}, {'Timestamp': '2010-11-18T00:00:00', 'Value': 47.3432197571}, {'Timestamp': '2010-11-19T00:00:00', 'Value': 31.6962223053}, {'Timestamp': '2010-11-20T00:00:00', 'Value': 5.7113904953}, {'Timestamp': '2010-11-21T00:00:00', 'Value': 44.7913475037}, {'Timestamp': '2010-11-22T00:00:00', 'Value': 51.9130172729}, {'Timestamp': '2010-11-23T00:00:00', 'Value': 77.8986434937}, {'Timestamp': '2010-11-24T00:00:00', 'Value': 60.532207489}, {'Timestamp': '2010-11-25T00:00:00', 'Value': 37.9557037354}, {'Timestamp': '2010-11-26T00:00:00', 'Value': 12.8957872391}, {'Timestamp': '2010-11-27T00:00:00', 'Value': 8.0049037933}, {'Timestamp': '2010-11-28T00:00:00', 'Value': 24.597951889}, {'Timestamp': '2010-11-29T00:00:00', 'Value': 32.1773948669}, {'Timestamp': '2010-11-30T00:00:00', 'Value': 43.3186340332}], 'p10': [{'Timestamp': '2010-11-01T00:00:00', 'Value': -9.7571077347}, {'Timestamp': '2010-11-02T00:00:00', 'Value': 29.4540481567}, {'Timestamp': '2010-11-03T00:00:00', 'Value': 36.6680526733}, {'Timestamp': '2010-11-04T00:00:00', 'Value': 40.201259613}, {'Timestamp': '2010-11-05T00:00:00', 'Value': -20.3314876556}, {'Timestamp': '2010-11-06T00:00:00', 'Value': -9.8204021454}, {'Timestamp': '2010-11-07T00:00:00', 'Value': 14.1882009506}, {'Timestamp': '2010-11-08T00:00:00', 'Value': 27.8944473267}, {'Timestamp': '2010-11-09T00:00:00', 'Value': 0.0503311157}, {'Timestamp': '2010-11-10T00:00:00', 'Value': -22.5631027222}, {'Timestamp': '2010-11-11T00:00:00', 'Value': -20.8479042053}, {'Timestamp': '2010-11-12T00:00:00', 'Value': -3.3248672485}, {'Timestamp': '2010-11-13T00:00:00', 'Value': -2.8114557266}, {'Timestamp': '2010-11-14T00:00:00', 'Value': 44.1766738892}, {'Timestamp': '2010-11-15T00:00:00', 'Value': 55.8097763062}, {'Timestamp': '2010-11-16T00:00:00', 'Value': 58.5391921997}, {'Timestamp': '2010-11-17T00:00:00', 'Value': -1.0365600586}, {'Timestamp': '2010-11-18T00:00:00', 'Value': 24.7277736664}, {'Timestamp': '2010-11-19T00:00:00', 'Value': 2.9678115845}, {'Timestamp': '2010-11-20T00:00:00', 'Value': -4.4654874802}, {'Timestamp': '2010-11-21T00:00:00', 'Value': 10.1678199768}, {'Timestamp': '2010-11-22T00:00:00', 'Value': 31.2767314911}, {'Timestamp': '2010-11-23T00:00:00', 'Value': 43.8765068054}, {'Timestamp': '2010-11-24T00:00:00', 'Value': 21.3958015442}, {'Timestamp': '2010-11-25T00:00:00', 'Value': 17.0110702515}, {'Timestamp': '2010-11-26T00:00:00', 'Value': -4.948009491}, {'Timestamp': '2010-11-27T00:00:00', 'Value': -3.7252883911}, {'Timestamp': '2010-11-28T00:00:00', 'Value': 15.5467720032}, {'Timestamp': '2010-11-29T00:00:00', 'Value': 17.9712257385}, {'Timestamp': '2010-11-30T00:00:00', 'Value': 32.2370758057}]}}, 'ResponseMetadata': {'RequestId': '38aec869-be1b-4983-81f0-c4cb02bd1b65', 'HTTPStatusCode': 200, 'HTTPHeaders': {'content-type': 'application/x-amz-json-1.1', 'date': 'Thu, 29 Sep 2022 08:42:32 GMT', 'x-amzn-requestid': '38aec869-be1b-4983-81f0-c4cb02bd1b65', 'content-length': '5272', 'connection': 'keep-alive'}, 'RetryAttempts': 0}}\n"
     ]
    }
   ],
   "source": [
    "print()\n",
    "forecast_response = forecast_query.query_forecast(\n",
    "    ForecastArn=forecast_arn,\n",
    "    Filters={\"item_id\":\"21232\"}\n",
    ")\n",
    "print(forecast_response)"
   ]
  },
  {
   "cell_type": "markdown",
   "metadata": {},
   "source": [
    "### Plotting the actual results\n",
    "\n",
    "Earlier, you split the data and held back the *November* and *December* values. You will plot these values against the predicted values for the same time period.\n",
    "\n",
    "You will start by reading the test values back into a DataFrame.\n"
   ]
  },
  {
   "cell_type": "code",
   "execution_count": 55,
   "metadata": {},
   "outputs": [
    {
     "data": {
      "text/html": [
       "<div>\n",
       "<style scoped>\n",
       "    .dataframe tbody tr th:only-of-type {\n",
       "        vertical-align: middle;\n",
       "    }\n",
       "\n",
       "    .dataframe tbody tr th {\n",
       "        vertical-align: top;\n",
       "    }\n",
       "\n",
       "    .dataframe thead th {\n",
       "        text-align: right;\n",
       "    }\n",
       "</style>\n",
       "<table border=\"1\" class=\"dataframe\">\n",
       "  <thead>\n",
       "    <tr style=\"text-align: right;\">\n",
       "      <th></th>\n",
       "      <th>StockCode</th>\n",
       "      <th>Quantity</th>\n",
       "    </tr>\n",
       "    <tr>\n",
       "      <th>InvoiceDate</th>\n",
       "      <th></th>\n",
       "      <th></th>\n",
       "    </tr>\n",
       "  </thead>\n",
       "  <tbody>\n",
       "    <tr>\n",
       "      <th>2010-11-01</th>\n",
       "      <td>21232</td>\n",
       "      <td>0</td>\n",
       "    </tr>\n",
       "    <tr>\n",
       "      <th>2010-11-02</th>\n",
       "      <td>21232</td>\n",
       "      <td>60</td>\n",
       "    </tr>\n",
       "    <tr>\n",
       "      <th>2010-11-03</th>\n",
       "      <td>21232</td>\n",
       "      <td>130</td>\n",
       "    </tr>\n",
       "    <tr>\n",
       "      <th>2010-11-04</th>\n",
       "      <td>21232</td>\n",
       "      <td>255</td>\n",
       "    </tr>\n",
       "    <tr>\n",
       "      <th>2010-11-05</th>\n",
       "      <td>21232</td>\n",
       "      <td>24</td>\n",
       "    </tr>\n",
       "  </tbody>\n",
       "</table>\n",
       "</div>"
      ],
      "text/plain": [
       "             StockCode  Quantity\n",
       "InvoiceDate                     \n",
       "2010-11-01       21232         0\n",
       "2010-11-02       21232        60\n",
       "2010-11-03       21232       130\n",
       "2010-11-04       21232       255\n",
       "2010-11-05       21232        24"
      ]
     },
     "execution_count": 55,
     "metadata": {},
     "output_type": "execute_result"
    }
   ],
   "source": [
    "actual_df = pd.read_csv(test, names=['InvoiceDate','StockCode','Quantity'])\n",
    "actual_df['InvoiceDate'] = pd.to_datetime(actual_df.InvoiceDate)\n",
    "actual_df = actual_df.set_index('InvoiceDate')\n",
    "actual_df.head()"
   ]
  },
  {
   "cell_type": "markdown",
   "metadata": {},
   "source": [
    "Check that you only have data for the *21232* stock code."
   ]
  },
  {
   "cell_type": "code",
   "execution_count": 56,
   "metadata": {},
   "outputs": [],
   "source": [
    "stockcode_filter = ['21232']\n",
    "actual_df = actual_df[actual_df['StockCode'].isin(stockcode_filter)]"
   ]
  },
  {
   "cell_type": "code",
   "execution_count": 57,
   "metadata": {},
   "outputs": [
    {
     "data": {
      "text/html": [
       "<div>\n",
       "<style scoped>\n",
       "    .dataframe tbody tr th:only-of-type {\n",
       "        vertical-align: middle;\n",
       "    }\n",
       "\n",
       "    .dataframe tbody tr th {\n",
       "        vertical-align: top;\n",
       "    }\n",
       "\n",
       "    .dataframe thead th {\n",
       "        text-align: right;\n",
       "    }\n",
       "</style>\n",
       "<table border=\"1\" class=\"dataframe\">\n",
       "  <thead>\n",
       "    <tr style=\"text-align: right;\">\n",
       "      <th></th>\n",
       "      <th>StockCode</th>\n",
       "      <th>Quantity</th>\n",
       "    </tr>\n",
       "    <tr>\n",
       "      <th>InvoiceDate</th>\n",
       "      <th></th>\n",
       "      <th></th>\n",
       "    </tr>\n",
       "  </thead>\n",
       "  <tbody>\n",
       "  </tbody>\n",
       "</table>\n",
       "</div>"
      ],
      "text/plain": [
       "Empty DataFrame\n",
       "Columns: [StockCode, Quantity]\n",
       "Index: []"
      ]
     },
     "execution_count": 57,
     "metadata": {},
     "output_type": "execute_result"
    }
   ],
   "source": [
    "actual_df.head()"
   ]
  },
  {
   "cell_type": "markdown",
   "metadata": {},
   "source": [
    "You can do a quick plot of the data. Remember that this data is test data, so the actual values are plotted. In the next step, you will plot the predicted values."
   ]
  },
  {
   "cell_type": "code",
   "execution_count": 58,
   "metadata": {},
   "outputs": [
    {
     "data": {
      "text/plain": [
       "<AxesSubplot:xlabel='InvoiceDate'>"
      ]
     },
     "execution_count": 58,
     "metadata": {},
     "output_type": "execute_result"
    },
    {
     "data": {
      "image/png": "[encoded data removed]",
      "text/plain": [
       "<Figure size 432x288 with 1 Axes>"
      ]
     },
     "metadata": {
      "needs_background": "light"
     },
     "output_type": "display_data"
    }
   ],
   "source": [
    "actual_df.Quantity.plot()"
   ]
  },
  {
   "cell_type": "markdown",
   "metadata": {},
   "source": [
    "### Plotting the prediction\n",
    "\n",
    "Next, you must convert the JSON response from the predictor to a DataFrame that you can plot.\n",
    "\n",
    "Start by getting the P10 predictions.\n"
   ]
  },
  {
   "cell_type": "code",
   "execution_count": 59,
   "metadata": {},
   "outputs": [
    {
     "data": {
      "text/html": [
       "<div>\n",
       "<style scoped>\n",
       "    .dataframe tbody tr th:only-of-type {\n",
       "        vertical-align: middle;\n",
       "    }\n",
       "\n",
       "    .dataframe tbody tr th {\n",
       "        vertical-align: top;\n",
       "    }\n",
       "\n",
       "    .dataframe thead th {\n",
       "        text-align: right;\n",
       "    }\n",
       "</style>\n",
       "<table border=\"1\" class=\"dataframe\">\n",
       "  <thead>\n",
       "    <tr style=\"text-align: right;\">\n",
       "      <th></th>\n",
       "      <th>Timestamp</th>\n",
       "      <th>Value</th>\n",
       "    </tr>\n",
       "  </thead>\n",
       "  <tbody>\n",
       "    <tr>\n",
       "      <th>0</th>\n",
       "      <td>2010-11-01T00:00:00</td>\n",
       "      <td>-9.757108</td>\n",
       "    </tr>\n",
       "    <tr>\n",
       "      <th>1</th>\n",
       "      <td>2010-11-02T00:00:00</td>\n",
       "      <td>29.454048</td>\n",
       "    </tr>\n",
       "    <tr>\n",
       "      <th>2</th>\n",
       "      <td>2010-11-03T00:00:00</td>\n",
       "      <td>36.668053</td>\n",
       "    </tr>\n",
       "    <tr>\n",
       "      <th>3</th>\n",
       "      <td>2010-11-04T00:00:00</td>\n",
       "      <td>40.201260</td>\n",
       "    </tr>\n",
       "    <tr>\n",
       "      <th>4</th>\n",
       "      <td>2010-11-05T00:00:00</td>\n",
       "      <td>-20.331488</td>\n",
       "    </tr>\n",
       "  </tbody>\n",
       "</table>\n",
       "</div>"
      ],
      "text/plain": [
       "             Timestamp      Value\n",
       "0  2010-11-01T00:00:00  -9.757108\n",
       "1  2010-11-02T00:00:00  29.454048\n",
       "2  2010-11-03T00:00:00  36.668053\n",
       "3  2010-11-04T00:00:00  40.201260\n",
       "4  2010-11-05T00:00:00 -20.331488"
      ]
     },
     "execution_count": 59,
     "metadata": {},
     "output_type": "execute_result"
    }
   ],
   "source": [
    "# Generate DF \n",
    "prediction_df_p10 = pd.DataFrame.from_dict(forecast_response['Forecast']['Predictions']['p10'])\n",
    "prediction_df_p10.head()"
   ]
  },
  {
   "cell_type": "markdown",
   "metadata": {},
   "source": [
    "Next, plot the P10 predictions."
   ]
  },
  {
   "cell_type": "code",
   "execution_count": 60,
   "metadata": {},
   "outputs": [
    {
     "data": {
      "text/plain": [
       "<AxesSubplot:>"
      ]
     },
     "execution_count": 60,
     "metadata": {},
     "output_type": "execute_result"
    },
    {
     "data": {
      "image/png": "[encoded data removed]",
      "text/plain": [
       "<Figure size 432x288 with 1 Axes>"
      ]
     },
     "metadata": {
      "needs_background": "light"
     },
     "output_type": "display_data"
    }
   ],
   "source": [
    "# Plot\n",
    "prediction_df_p10.plot()\n"
   ]
  },
  {
   "cell_type": "markdown",
   "metadata": {},
   "source": [
    "The previous code only retrieved the P10 values and put them in a DataFrame. Now, complete the same process for the P50 and P90 values.\n"
   ]
  },
  {
   "cell_type": "code",
   "execution_count": 61,
   "metadata": {},
   "outputs": [],
   "source": [
    "prediction_df_p50 = pd.DataFrame.from_dict(forecast_response['Forecast']['Predictions']['p50'])\n",
    "prediction_df_p90 = pd.DataFrame.from_dict(forecast_response['Forecast']['Predictions']['p90'])"
   ]
  },
  {
   "cell_type": "markdown",
   "metadata": {},
   "source": [
    "\n",
    "### Comparing the prediction to actual results\n",
    "\n",
    "After you obtain the DataFrames, the next task is to plot them together to determine the best fit.\n"
   ]
  },
  {
   "cell_type": "code",
   "execution_count": 62,
   "metadata": {},
   "outputs": [
    {
     "data": {
      "text/html": [
       "<div>\n",
       "<style scoped>\n",
       "    .dataframe tbody tr th:only-of-type {\n",
       "        vertical-align: middle;\n",
       "    }\n",
       "\n",
       "    .dataframe tbody tr th {\n",
       "        vertical-align: top;\n",
       "    }\n",
       "\n",
       "    .dataframe thead th {\n",
       "        text-align: right;\n",
       "    }\n",
       "</style>\n",
       "<table border=\"1\" class=\"dataframe\">\n",
       "  <thead>\n",
       "    <tr style=\"text-align: right;\">\n",
       "      <th></th>\n",
       "      <th>timestamp</th>\n",
       "      <th>value</th>\n",
       "      <th>Source</th>\n",
       "    </tr>\n",
       "  </thead>\n",
       "  <tbody>\n",
       "  </tbody>\n",
       "</table>\n",
       "</div>"
      ],
      "text/plain": [
       "Empty DataFrame\n",
       "Columns: [timestamp, value, Source]\n",
       "Index: []"
      ]
     },
     "execution_count": 62,
     "metadata": {},
     "output_type": "execute_result"
    }
   ],
   "source": [
    "# Start by creating a DataFrame to house the content. Here, Source will be which DataFrame it came from.\n",
    "results_df = pd.DataFrame(columns=['timestamp','value','Source'])\n",
    "\n",
    "results_df.head()"
   ]
  },
  {
   "cell_type": "markdown",
   "metadata": {},
   "source": [
    "\n",
    "\n",
    "Import the observed values into the DataFrame:\n"
   ]
  },
  {
   "cell_type": "code",
   "execution_count": 63,
   "metadata": {},
   "outputs": [],
   "source": [
    "import dateutil.parser\n",
    "for index, row in actual_df.iterrows():\n",
    "    #clean_timestamp = dateutil.parser.parse(index)\n",
    "    results_df = results_df.append({'timestamp' : index , 'value' : row['Quantity'], 'Source': 'Actual'} , ignore_index=True)"
   ]
  },
  {
   "cell_type": "code",
   "execution_count": 64,
   "metadata": {},
   "outputs": [
    {
     "data": {
      "text/html": [
       "<div>\n",
       "<style scoped>\n",
       "    .dataframe tbody tr th:only-of-type {\n",
       "        vertical-align: middle;\n",
       "    }\n",
       "\n",
       "    .dataframe tbody tr th {\n",
       "        vertical-align: top;\n",
       "    }\n",
       "\n",
       "    .dataframe thead th {\n",
       "        text-align: right;\n",
       "    }\n",
       "</style>\n",
       "<table border=\"1\" class=\"dataframe\">\n",
       "  <thead>\n",
       "    <tr style=\"text-align: right;\">\n",
       "      <th></th>\n",
       "      <th>timestamp</th>\n",
       "      <th>value</th>\n",
       "      <th>Source</th>\n",
       "    </tr>\n",
       "  </thead>\n",
       "  <tbody>\n",
       "  </tbody>\n",
       "</table>\n",
       "</div>"
      ],
      "text/plain": [
       "Empty DataFrame\n",
       "Columns: [timestamp, value, Source]\n",
       "Index: []"
      ]
     },
     "execution_count": 64,
     "metadata": {},
     "output_type": "execute_result"
    }
   ],
   "source": [
    "# To show the new DataFrame\n",
    "results_df.head()"
   ]
  },
  {
   "cell_type": "code",
   "execution_count": 65,
   "metadata": {},
   "outputs": [],
   "source": [
    "# Now add the P10, P50, and P90 Values\n",
    "for index, row in prediction_df_p10.iterrows():\n",
    "    clean_timestamp = dateutil.parser.parse(row['Timestamp'])\n",
    "    results_df = results_df.append({'timestamp' : clean_timestamp , 'value' : row['Value'], 'Source': 'p10'} , ignore_index=True)\n",
    "for index, row in prediction_df_p50.iterrows():\n",
    "    clean_timestamp = dateutil.parser.parse(row['Timestamp'])\n",
    "    results_df = results_df.append({'timestamp' : clean_timestamp , 'value' : row['Value'], 'Source': 'p50'} , ignore_index=True)\n",
    "for index, row in prediction_df_p90.iterrows():\n",
    "    clean_timestamp = dateutil.parser.parse(row['Timestamp'])\n",
    "    results_df = results_df.append({'timestamp' : clean_timestamp , 'value' : row['Value'], 'Source': 'p90'} , ignore_index=True)"
   ]
  },
  {
   "cell_type": "markdown",
   "metadata": {},
   "source": [
    "By creating a pivot on the data, you can compare the actual P10, P50, and P90 values."
   ]
  },
  {
   "cell_type": "code",
   "execution_count": 66,
   "metadata": {},
   "outputs": [
    {
     "data": {
      "text/html": [
       "<div>\n",
       "<style scoped>\n",
       "    .dataframe tbody tr th:only-of-type {\n",
       "        vertical-align: middle;\n",
       "    }\n",
       "\n",
       "    .dataframe tbody tr th {\n",
       "        vertical-align: top;\n",
       "    }\n",
       "\n",
       "    .dataframe thead th {\n",
       "        text-align: right;\n",
       "    }\n",
       "</style>\n",
       "<table border=\"1\" class=\"dataframe\">\n",
       "  <thead>\n",
       "    <tr style=\"text-align: right;\">\n",
       "      <th>Source</th>\n",
       "      <th>p10</th>\n",
       "      <th>p50</th>\n",
       "      <th>p90</th>\n",
       "    </tr>\n",
       "    <tr>\n",
       "      <th>timestamp</th>\n",
       "      <th></th>\n",
       "      <th></th>\n",
       "      <th></th>\n",
       "    </tr>\n",
       "  </thead>\n",
       "  <tbody>\n",
       "    <tr>\n",
       "      <th>2010-11-01</th>\n",
       "      <td>-9.757108</td>\n",
       "      <td>-8.605623</td>\n",
       "      <td>-7.506522</td>\n",
       "    </tr>\n",
       "    <tr>\n",
       "      <th>2010-11-02</th>\n",
       "      <td>29.454048</td>\n",
       "      <td>32.205414</td>\n",
       "      <td>34.749855</td>\n",
       "    </tr>\n",
       "    <tr>\n",
       "      <th>2010-11-03</th>\n",
       "      <td>36.668053</td>\n",
       "      <td>39.031910</td>\n",
       "      <td>41.509014</td>\n",
       "    </tr>\n",
       "    <tr>\n",
       "      <th>2010-11-04</th>\n",
       "      <td>40.201260</td>\n",
       "      <td>43.933807</td>\n",
       "      <td>47.714203</td>\n",
       "    </tr>\n",
       "    <tr>\n",
       "      <th>2010-11-05</th>\n",
       "      <td>-20.331488</td>\n",
       "      <td>-16.284283</td>\n",
       "      <td>-12.509662</td>\n",
       "    </tr>\n",
       "    <tr>\n",
       "      <th>2010-11-06</th>\n",
       "      <td>-9.820402</td>\n",
       "      <td>-4.214751</td>\n",
       "      <td>3.061046</td>\n",
       "    </tr>\n",
       "    <tr>\n",
       "      <th>2010-11-07</th>\n",
       "      <td>14.188201</td>\n",
       "      <td>23.852169</td>\n",
       "      <td>32.203804</td>\n",
       "    </tr>\n",
       "    <tr>\n",
       "      <th>2010-11-08</th>\n",
       "      <td>27.894447</td>\n",
       "      <td>46.326504</td>\n",
       "      <td>69.068779</td>\n",
       "    </tr>\n",
       "    <tr>\n",
       "      <th>2010-11-09</th>\n",
       "      <td>0.050331</td>\n",
       "      <td>68.426598</td>\n",
       "      <td>132.382263</td>\n",
       "    </tr>\n",
       "    <tr>\n",
       "      <th>2010-11-10</th>\n",
       "      <td>-22.563103</td>\n",
       "      <td>69.280518</td>\n",
       "      <td>164.464935</td>\n",
       "    </tr>\n",
       "    <tr>\n",
       "      <th>2010-11-11</th>\n",
       "      <td>-20.847904</td>\n",
       "      <td>62.014301</td>\n",
       "      <td>161.216019</td>\n",
       "    </tr>\n",
       "    <tr>\n",
       "      <th>2010-11-12</th>\n",
       "      <td>-3.324867</td>\n",
       "      <td>37.775791</td>\n",
       "      <td>90.825760</td>\n",
       "    </tr>\n",
       "    <tr>\n",
       "      <th>2010-11-13</th>\n",
       "      <td>-2.811456</td>\n",
       "      <td>11.860908</td>\n",
       "      <td>38.911755</td>\n",
       "    </tr>\n",
       "    <tr>\n",
       "      <th>2010-11-14</th>\n",
       "      <td>44.176674</td>\n",
       "      <td>57.724689</td>\n",
       "      <td>73.787872</td>\n",
       "    </tr>\n",
       "    <tr>\n",
       "      <th>2010-11-15</th>\n",
       "      <td>55.809776</td>\n",
       "      <td>72.565071</td>\n",
       "      <td>93.530777</td>\n",
       "    </tr>\n",
       "    <tr>\n",
       "      <th>2010-11-16</th>\n",
       "      <td>58.539192</td>\n",
       "      <td>92.650177</td>\n",
       "      <td>141.247452</td>\n",
       "    </tr>\n",
       "    <tr>\n",
       "      <th>2010-11-17</th>\n",
       "      <td>-1.036560</td>\n",
       "      <td>65.498535</td>\n",
       "      <td>131.273773</td>\n",
       "    </tr>\n",
       "    <tr>\n",
       "      <th>2010-11-18</th>\n",
       "      <td>24.727774</td>\n",
       "      <td>47.343220</td>\n",
       "      <td>115.907532</td>\n",
       "    </tr>\n",
       "    <tr>\n",
       "      <th>2010-11-19</th>\n",
       "      <td>2.967812</td>\n",
       "      <td>31.696222</td>\n",
       "      <td>66.433655</td>\n",
       "    </tr>\n",
       "    <tr>\n",
       "      <th>2010-11-20</th>\n",
       "      <td>-4.465487</td>\n",
       "      <td>5.711390</td>\n",
       "      <td>29.472116</td>\n",
       "    </tr>\n",
       "    <tr>\n",
       "      <th>2010-11-21</th>\n",
       "      <td>10.167820</td>\n",
       "      <td>44.791348</td>\n",
       "      <td>81.266739</td>\n",
       "    </tr>\n",
       "    <tr>\n",
       "      <th>2010-11-22</th>\n",
       "      <td>31.276731</td>\n",
       "      <td>51.913017</td>\n",
       "      <td>83.025665</td>\n",
       "    </tr>\n",
       "    <tr>\n",
       "      <th>2010-11-23</th>\n",
       "      <td>43.876507</td>\n",
       "      <td>77.898643</td>\n",
       "      <td>122.101990</td>\n",
       "    </tr>\n",
       "    <tr>\n",
       "      <th>2010-11-24</th>\n",
       "      <td>21.395802</td>\n",
       "      <td>60.532207</td>\n",
       "      <td>104.615433</td>\n",
       "    </tr>\n",
       "    <tr>\n",
       "      <th>2010-11-25</th>\n",
       "      <td>17.011070</td>\n",
       "      <td>37.955704</td>\n",
       "      <td>66.291153</td>\n",
       "    </tr>\n",
       "    <tr>\n",
       "      <th>2010-11-26</th>\n",
       "      <td>-4.948009</td>\n",
       "      <td>12.895787</td>\n",
       "      <td>37.028320</td>\n",
       "    </tr>\n",
       "    <tr>\n",
       "      <th>2010-11-27</th>\n",
       "      <td>-3.725288</td>\n",
       "      <td>8.004904</td>\n",
       "      <td>27.410828</td>\n",
       "    </tr>\n",
       "    <tr>\n",
       "      <th>2010-11-28</th>\n",
       "      <td>15.546772</td>\n",
       "      <td>24.597952</td>\n",
       "      <td>50.302788</td>\n",
       "    </tr>\n",
       "    <tr>\n",
       "      <th>2010-11-29</th>\n",
       "      <td>17.971226</td>\n",
       "      <td>32.177395</td>\n",
       "      <td>62.030289</td>\n",
       "    </tr>\n",
       "    <tr>\n",
       "      <th>2010-11-30</th>\n",
       "      <td>32.237076</td>\n",
       "      <td>43.318634</td>\n",
       "      <td>56.574020</td>\n",
       "    </tr>\n",
       "  </tbody>\n",
       "</table>\n",
       "</div>"
      ],
      "text/plain": [
       "Source            p10        p50         p90\n",
       "timestamp                                   \n",
       "2010-11-01  -9.757108  -8.605623   -7.506522\n",
       "2010-11-02  29.454048  32.205414   34.749855\n",
       "2010-11-03  36.668053  39.031910   41.509014\n",
       "2010-11-04  40.201260  43.933807   47.714203\n",
       "2010-11-05 -20.331488 -16.284283  -12.509662\n",
       "2010-11-06  -9.820402  -4.214751    3.061046\n",
       "2010-11-07  14.188201  23.852169   32.203804\n",
       "2010-11-08  27.894447  46.326504   69.068779\n",
       "2010-11-09   0.050331  68.426598  132.382263\n",
       "2010-11-10 -22.563103  69.280518  164.464935\n",
       "2010-11-11 -20.847904  62.014301  161.216019\n",
       "2010-11-12  -3.324867  37.775791   90.825760\n",
       "2010-11-13  -2.811456  11.860908   38.911755\n",
       "2010-11-14  44.176674  57.724689   73.787872\n",
       "2010-11-15  55.809776  72.565071   93.530777\n",
       "2010-11-16  58.539192  92.650177  141.247452\n",
       "2010-11-17  -1.036560  65.498535  131.273773\n",
       "2010-11-18  24.727774  47.343220  115.907532\n",
       "2010-11-19   2.967812  31.696222   66.433655\n",
       "2010-11-20  -4.465487   5.711390   29.472116\n",
       "2010-11-21  10.167820  44.791348   81.266739\n",
       "2010-11-22  31.276731  51.913017   83.025665\n",
       "2010-11-23  43.876507  77.898643  122.101990\n",
       "2010-11-24  21.395802  60.532207  104.615433\n",
       "2010-11-25  17.011070  37.955704   66.291153\n",
       "2010-11-26  -4.948009  12.895787   37.028320\n",
       "2010-11-27  -3.725288   8.004904   27.410828\n",
       "2010-11-28  15.546772  24.597952   50.302788\n",
       "2010-11-29  17.971226  32.177395   62.030289\n",
       "2010-11-30  32.237076  43.318634   56.574020"
      ]
     },
     "execution_count": 66,
     "metadata": {},
     "output_type": "execute_result"
    }
   ],
   "source": [
    "pivot_df = results_df.pivot(columns='Source', values='value', index=\"timestamp\")\n",
    "pivot_df"
   ]
  },
  {
   "cell_type": "markdown",
   "metadata": {},
   "source": [
    "Charts can be easier to analyze than the raw values."
   ]
  },
  {
   "cell_type": "code",
   "execution_count": 67,
   "metadata": {},
   "outputs": [
    {
     "data": {
      "text/plain": [
       "<AxesSubplot:xlabel='timestamp'>"
      ]
     },
     "execution_count": 67,
     "metadata": {},
     "output_type": "execute_result"
    },
    {
     "data": {
      "image/png": "[encoded data removed]",
      "text/plain": [
       "<Figure size 1440x720 with 1 Axes>"
      ]
     },
     "metadata": {
      "needs_background": "light"
     },
     "output_type": "display_data"
    }
   ],
   "source": [
    "pivot_df.plot(figsize=(20,10))"
   ]
  },
  {
   "cell_type": "markdown",
   "metadata": {},
   "source": [
    "### Examining the results\n",
    "\n",
    "Hopefully, in the previous chart, you will see at least some correlation between the predicted values and the actual values. The correlation might not be good, and there could be several reasons for this outcome:\n",
    "\n",
    "- The sales are mostly wholesale, but they do include some smaller orders.\n",
    "- You held back data, which meant that an entire season wasn't included in the training data.\n",
    "- You might have been missing useful category or sales promotion data.\n",
    "\n",
    "Like all machine learning models, the results are as good as the data you use to train the model. As noted previously, the model could be improved with more data."
   ]
  },
  {
   "cell_type": "markdown",
   "metadata": {},
   "source": [
    "## Task 7: Cleaning up\n",
    "\n",
    "The following cells will clean up the resources that were created during the lab."
   ]
  },
  {
   "cell_type": "code",
   "execution_count": 68,
   "metadata": {},
   "outputs": [],
   "source": [
    "%store -r"
   ]
  },
  {
   "cell_type": "code",
   "execution_count": 69,
   "metadata": {},
   "outputs": [
    {
     "name": "stdout",
     "output_type": "stream",
     "text": [
      "arn:aws:forecast:us-east-1:583544433603:forecast/lab_4_deeparp_algo_forecast\n"
     ]
    }
   ],
   "source": [
    "print(forecast_arn)"
   ]
  },
  {
   "cell_type": "code",
   "execution_count": 70,
   "metadata": {},
   "outputs": [],
   "source": [
    "forecast.delete_forecast(ForecastArn=forecast_arn)\n",
    "time.sleep(60)"
   ]
  },
  {
   "cell_type": "code",
   "execution_count": 71,
   "metadata": {},
   "outputs": [],
   "source": [
    "forecast.delete_predictor(PredictorArn=predictor_arn)\n",
    "time.sleep(60)"
   ]
  },
  {
   "cell_type": "code",
   "execution_count": 72,
   "metadata": {},
   "outputs": [
    {
     "data": {
      "text/plain": [
       "{'ResponseMetadata': {'RequestId': '37e0004f-b2f3-4986-a1f8-b8acd0033704',\n",
       "  'HTTPStatusCode': 200,\n",
       "  'HTTPHeaders': {'content-type': 'application/x-amz-json-1.1',\n",
       "   'date': 'Thu, 29 Sep 2022 08:44:34 GMT',\n",
       "   'x-amzn-requestid': '37e0004f-b2f3-4986-a1f8-b8acd0033704',\n",
       "   'content-length': '0',\n",
       "   'connection': 'keep-alive'},\n",
       "  'RetryAttempts': 0}}"
      ]
     },
     "execution_count": 72,
     "metadata": {},
     "output_type": "execute_result"
    }
   ],
   "source": [
    "forecast.delete_dataset_import_job(DatasetImportJobArn=ds_related_import_job_arn)"
   ]
  },
  {
   "cell_type": "code",
   "execution_count": 73,
   "metadata": {},
   "outputs": [
    {
     "data": {
      "text/plain": [
       "{'ResponseMetadata': {'RequestId': 'd50e7d1b-a5c6-471e-bf7b-8cf4053e4c3d',\n",
       "  'HTTPStatusCode': 200,\n",
       "  'HTTPHeaders': {'content-type': 'application/x-amz-json-1.1',\n",
       "   'date': 'Thu, 29 Sep 2022 08:44:33 GMT',\n",
       "   'x-amzn-requestid': 'd50e7d1b-a5c6-471e-bf7b-8cf4053e4c3d',\n",
       "   'content-length': '0',\n",
       "   'connection': 'keep-alive'},\n",
       "  'RetryAttempts': 0}}"
      ]
     },
     "execution_count": 73,
     "metadata": {},
     "output_type": "execute_result"
    }
   ],
   "source": [
    "forecast.delete_dataset_import_job(DatasetImportJobArn=ds_import_job_arn)"
   ]
  },
  {
   "cell_type": "code",
   "execution_count": 74,
   "metadata": {},
   "outputs": [],
   "source": [
    "time.sleep(60)"
   ]
  },
  {
   "cell_type": "code",
   "execution_count": 75,
   "metadata": {},
   "outputs": [
    {
     "data": {
      "text/plain": [
       "{'ResponseMetadata': {'RequestId': 'f3e6d52e-81d3-4742-b0e5-066b6c48ff1d',\n",
       "  'HTTPStatusCode': 200,\n",
       "  'HTTPHeaders': {'content-type': 'application/x-amz-json-1.1',\n",
       "   'date': 'Thu, 29 Sep 2022 08:45:34 GMT',\n",
       "   'x-amzn-requestid': 'f3e6d52e-81d3-4742-b0e5-066b6c48ff1d',\n",
       "   'content-length': '0',\n",
       "   'connection': 'keep-alive'},\n",
       "  'RetryAttempts': 0}}"
      ]
     },
     "execution_count": 75,
     "metadata": {},
     "output_type": "execute_result"
    }
   ],
   "source": [
    "forecast.delete_dataset(DatasetArn=related_dataset_arn)"
   ]
  },
  {
   "cell_type": "code",
   "execution_count": 76,
   "metadata": {},
   "outputs": [
    {
     "data": {
      "text/plain": [
       "{'ResponseMetadata': {'RequestId': '4e7ef957-52fe-4375-b018-4590cf92be88',\n",
       "  'HTTPStatusCode': 200,\n",
       "  'HTTPHeaders': {'content-type': 'application/x-amz-json-1.1',\n",
       "   'date': 'Thu, 29 Sep 2022 08:45:34 GMT',\n",
       "   'x-amzn-requestid': '4e7ef957-52fe-4375-b018-4590cf92be88',\n",
       "   'content-length': '0',\n",
       "   'connection': 'keep-alive'},\n",
       "  'RetryAttempts': 0}}"
      ]
     },
     "execution_count": 76,
     "metadata": {},
     "output_type": "execute_result"
    }
   ],
   "source": [
    "forecast.delete_dataset(DatasetArn=dataset_arn)"
   ]
  },
  {
   "cell_type": "code",
   "execution_count": 77,
   "metadata": {},
   "outputs": [],
   "source": [
    "time.sleep(60)"
   ]
  },
  {
   "cell_type": "code",
   "execution_count": 78,
   "metadata": {},
   "outputs": [
    {
     "data": {
      "text/plain": [
       "{'ResponseMetadata': {'RequestId': '3360b294-9610-4758-950b-37c29bd46011',\n",
       "  'HTTPStatusCode': 200,\n",
       "  'HTTPHeaders': {'content-type': 'application/x-amz-json-1.1',\n",
       "   'date': 'Thu, 29 Sep 2022 08:46:34 GMT',\n",
       "   'x-amzn-requestid': '3360b294-9610-4758-950b-37c29bd46011',\n",
       "   'content-length': '0',\n",
       "   'connection': 'keep-alive'},\n",
       "  'RetryAttempts': 0}}"
      ]
     },
     "execution_count": 78,
     "metadata": {},
     "output_type": "execute_result"
    }
   ],
   "source": [
    "forecast.delete_dataset_group(DatasetGroupArn=dataset_group_arn)"
   ]
  }
 ],
 "metadata": {
  "kernelspec": {
   "display_name": "conda_python3",
   "language": "python",
   "name": "conda_python3"
  },
  "language_info": {
   "codemirror_mode": {
    "name": "ipython",
    "version": 3
   },
   "file_extension": ".py",
   "mimetype": "text/x-python",
   "name": "python",
   "nbconvert_exporter": "python",
   "pygments_lexer": "ipython3",
   "version": "3.8.12"
  }
 },
 "nbformat": 4,
 "nbformat_minor": 4
}
